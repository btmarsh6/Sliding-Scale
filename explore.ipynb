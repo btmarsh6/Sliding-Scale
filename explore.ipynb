{
 "cells": [
  {
   "cell_type": "code",
   "execution_count": 55,
   "id": "0da76ae9",
   "metadata": {},
   "outputs": [
    {
     "data": {
      "text/plain": [
       "'English_Canada.1252'"
      ]
     },
     "execution_count": 55,
     "metadata": {},
     "output_type": "execute_result"
    }
   ],
   "source": [
    "import pandas as pd\n",
    "import numpy as np\n",
    "import plotly.express as px\n",
    "import locale\n",
    "locale.setlocale( locale.LC_ALL, '')\n"
   ]
  },
  {
   "cell_type": "code",
   "execution_count": null,
   "id": "01945558",
   "metadata": {},
   "outputs": [],
   "source": [
    "def classify_frequency(days):\n",
    "    if pd.isna(days):\n",
    "        return 'One-time'\n",
    "    elif days < 10:\n",
    "        return 'Weekly'\n",
    "    elif days < 18:\n",
    "        return 'Bi-weekly'\n",
    "    elif days < 36:\n",
    "        return 'Monthly'\n",
    "    else:\n",
    "        return 'Occasional'\n",
    "    \n",
    "\n"
   ]
  },
  {
   "cell_type": "code",
   "execution_count": 25,
   "id": "97a4b2c2",
   "metadata": {},
   "outputs": [
    {
     "name": "stdout",
     "output_type": "stream",
     "text": [
      "(112, 8)\n"
     ]
    },
    {
     "data": {
      "text/html": [
       "<div>\n",
       "<style scoped>\n",
       "    .dataframe tbody tr th:only-of-type {\n",
       "        vertical-align: middle;\n",
       "    }\n",
       "\n",
       "    .dataframe tbody tr th {\n",
       "        vertical-align: top;\n",
       "    }\n",
       "\n",
       "    .dataframe thead th {\n",
       "        text-align: right;\n",
       "    }\n",
       "</style>\n",
       "<table border=\"1\" class=\"dataframe\">\n",
       "  <thead>\n",
       "    <tr style=\"text-align: right;\">\n",
       "      <th></th>\n",
       "      <th>Purchase Date</th>\n",
       "      <th>Patient Guid</th>\n",
       "      <th>Item</th>\n",
       "      <th>Invoice #</th>\n",
       "      <th>Status</th>\n",
       "      <th>Total</th>\n",
       "      <th>Collected</th>\n",
       "      <th>Balance</th>\n",
       "    </tr>\n",
       "  </thead>\n",
       "  <tbody>\n",
       "    <tr>\n",
       "      <th>0</th>\n",
       "      <td>2025-02-03</td>\n",
       "      <td>29276-67</td>\n",
       "      <td>Individual Counselling Session (Video)</td>\n",
       "      <td>1457-P01</td>\n",
       "      <td>paid</td>\n",
       "      <td>157.5</td>\n",
       "      <td>157.5</td>\n",
       "      <td>0.0</td>\n",
       "    </tr>\n",
       "    <tr>\n",
       "      <th>1</th>\n",
       "      <td>2025-02-03</td>\n",
       "      <td>29276-79</td>\n",
       "      <td>Individual Counselling Session (Video)</td>\n",
       "      <td>1458-P01</td>\n",
       "      <td>paid</td>\n",
       "      <td>157.5</td>\n",
       "      <td>157.5</td>\n",
       "      <td>0.0</td>\n",
       "    </tr>\n",
       "    <tr>\n",
       "      <th>2</th>\n",
       "      <td>2025-02-03</td>\n",
       "      <td>29276-90</td>\n",
       "      <td>Individual Counselling Session (Video)</td>\n",
       "      <td>1459-P01</td>\n",
       "      <td>paid</td>\n",
       "      <td>157.5</td>\n",
       "      <td>157.5</td>\n",
       "      <td>0.0</td>\n",
       "    </tr>\n",
       "    <tr>\n",
       "      <th>3</th>\n",
       "      <td>2025-02-03</td>\n",
       "      <td>29276-40</td>\n",
       "      <td>Individual Counselling Session (Video)</td>\n",
       "      <td>1460-P01</td>\n",
       "      <td>paid</td>\n",
       "      <td>157.5</td>\n",
       "      <td>157.5</td>\n",
       "      <td>0.0</td>\n",
       "    </tr>\n",
       "    <tr>\n",
       "      <th>4</th>\n",
       "      <td>2025-02-04</td>\n",
       "      <td>29276-64</td>\n",
       "      <td>Individual Counselling Session (Video)</td>\n",
       "      <td>1461-P01</td>\n",
       "      <td>paid</td>\n",
       "      <td>168.0</td>\n",
       "      <td>168.0</td>\n",
       "      <td>0.0</td>\n",
       "    </tr>\n",
       "  </tbody>\n",
       "</table>\n",
       "</div>"
      ],
      "text/plain": [
       "  Purchase Date Patient Guid                                    Item  \\\n",
       "0    2025-02-03     29276-67  Individual Counselling Session (Video)   \n",
       "1    2025-02-03     29276-79  Individual Counselling Session (Video)   \n",
       "2    2025-02-03     29276-90  Individual Counselling Session (Video)   \n",
       "3    2025-02-03     29276-40  Individual Counselling Session (Video)   \n",
       "4    2025-02-04     29276-64  Individual Counselling Session (Video)   \n",
       "\n",
       "  Invoice # Status  Total  Collected  Balance  \n",
       "0  1457-P01   paid  157.5      157.5      0.0  \n",
       "1  1458-P01   paid  157.5      157.5      0.0  \n",
       "2  1459-P01   paid  157.5      157.5      0.0  \n",
       "3  1460-P01   paid  157.5      157.5      0.0  \n",
       "4  1461-P01   paid  168.0      168.0      0.0  "
      ]
     },
     "execution_count": 25,
     "metadata": {},
     "output_type": "execute_result"
    }
   ],
   "source": [
    "df = pd.read_csv('Sales_20250201_20250331.csv')\n",
    "df.columns = df.columns.str.strip()\n",
    "df.drop(columns=['Invoice Date', 'Subtotal', 'Patient', 'Location', 'Staff Member', 'Income Category', 'Payer', 'Details'], inplace=True)\n",
    "df['Purchase Date'] = pd.to_datetime(df['Purchase Date'], format='%Y-%m-%d')\n",
    "print(df.shape)\n",
    "df.head()"
   ]
  },
  {
   "cell_type": "code",
   "execution_count": 3,
   "id": "717f7375",
   "metadata": {},
   "outputs": [
    {
     "data": {
      "text/html": [
       "<div>\n",
       "<style scoped>\n",
       "    .dataframe tbody tr th:only-of-type {\n",
       "        vertical-align: middle;\n",
       "    }\n",
       "\n",
       "    .dataframe tbody tr th {\n",
       "        vertical-align: top;\n",
       "    }\n",
       "\n",
       "    .dataframe thead th {\n",
       "        text-align: right;\n",
       "    }\n",
       "</style>\n",
       "<table border=\"1\" class=\"dataframe\">\n",
       "  <thead>\n",
       "    <tr style=\"text-align: right;\">\n",
       "      <th></th>\n",
       "      <th>Month</th>\n",
       "      <th># of Sessions</th>\n",
       "      <th>Total Charged</th>\n",
       "      <th>Total Collected</th>\n",
       "      <th>Toal Outstanding</th>\n",
       "      <th>Average Charged</th>\n",
       "      <th>Average Collected</th>\n",
       "      <th>Average Outstanding</th>\n",
       "    </tr>\n",
       "  </thead>\n",
       "  <tbody>\n",
       "    <tr>\n",
       "      <th>0</th>\n",
       "      <td>2025-02</td>\n",
       "      <td>67</td>\n",
       "      <td>9978.75</td>\n",
       "      <td>9752.75</td>\n",
       "      <td>226.0</td>\n",
       "      <td>148.94</td>\n",
       "      <td>145.56</td>\n",
       "      <td>3.37</td>\n",
       "    </tr>\n",
       "    <tr>\n",
       "      <th>1</th>\n",
       "      <td>2025-03</td>\n",
       "      <td>45</td>\n",
       "      <td>6885.00</td>\n",
       "      <td>6465.00</td>\n",
       "      <td>420.0</td>\n",
       "      <td>153.00</td>\n",
       "      <td>143.67</td>\n",
       "      <td>9.33</td>\n",
       "    </tr>\n",
       "  </tbody>\n",
       "</table>\n",
       "</div>"
      ],
      "text/plain": [
       "     Month  # of Sessions  Total Charged  Total Collected  Toal Outstanding  \\\n",
       "0  2025-02             67        9978.75          9752.75             226.0   \n",
       "1  2025-03             45        6885.00          6465.00             420.0   \n",
       "\n",
       "   Average Charged  Average Collected  Average Outstanding  \n",
       "0           148.94             145.56                 3.37  \n",
       "1           153.00             143.67                 9.33  "
      ]
     },
     "execution_count": 3,
     "metadata": {},
     "output_type": "execute_result"
    }
   ],
   "source": [
    "monthly_details = df.groupby(df['Purchase Date'].dt.to_period('M')).agg({'Invoice #': 'count', 'Total': 'sum', 'Collected':'sum', 'Balance': 'sum'}).reset_index()\n",
    "monthly_details['Total_avg'] = round(monthly_details['Total'] / monthly_details['Invoice #'], 2)\n",
    "monthly_details['Collected_avg'] = round(monthly_details['Collected'] / monthly_details['Invoice #'], 2)\n",
    "monthly_details['Balance_avg'] = round(monthly_details['Balance'] / monthly_details['Invoice #'], 2)\n",
    "monthly_details.columns = ['Month', '# of Sessions', 'Total Charged', 'Total Collected', 'Toal Outstanding', 'Average Charged', 'Average Collected', 'Average Outstanding']\n",
    "monthly_details"
   ]
  },
  {
   "cell_type": "code",
   "execution_count": 4,
   "id": "55b4c183",
   "metadata": {},
   "outputs": [
    {
     "data": {
      "text/html": [
       "<div>\n",
       "<style scoped>\n",
       "    .dataframe tbody tr th:only-of-type {\n",
       "        vertical-align: middle;\n",
       "    }\n",
       "\n",
       "    .dataframe tbody tr th {\n",
       "        vertical-align: top;\n",
       "    }\n",
       "\n",
       "    .dataframe thead th {\n",
       "        text-align: right;\n",
       "    }\n",
       "</style>\n",
       "<table border=\"1\" class=\"dataframe\">\n",
       "  <thead>\n",
       "    <tr style=\"text-align: right;\">\n",
       "      <th></th>\n",
       "      <th>Year</th>\n",
       "      <th># of Sessions</th>\n",
       "      <th>Total Charged</th>\n",
       "      <th>Total Collected</th>\n",
       "      <th>Toal Outstanding</th>\n",
       "      <th>Average Charged</th>\n",
       "      <th>Average Collected</th>\n",
       "      <th>Average Outstanding</th>\n",
       "    </tr>\n",
       "  </thead>\n",
       "  <tbody>\n",
       "    <tr>\n",
       "      <th>0</th>\n",
       "      <td>2025</td>\n",
       "      <td>112</td>\n",
       "      <td>16863.75</td>\n",
       "      <td>16217.75</td>\n",
       "      <td>646.0</td>\n",
       "      <td>150.57</td>\n",
       "      <td>144.8</td>\n",
       "      <td>5.77</td>\n",
       "    </tr>\n",
       "  </tbody>\n",
       "</table>\n",
       "</div>"
      ],
      "text/plain": [
       "   Year  # of Sessions  Total Charged  Total Collected  Toal Outstanding  \\\n",
       "0  2025            112       16863.75         16217.75             646.0   \n",
       "\n",
       "   Average Charged  Average Collected  Average Outstanding  \n",
       "0           150.57              144.8                 5.77  "
      ]
     },
     "execution_count": 4,
     "metadata": {},
     "output_type": "execute_result"
    }
   ],
   "source": [
    "annual_details = df.groupby(df['Purchase Date'].dt.to_period('Y')).agg({'Invoice #': 'count', 'Total': 'sum', 'Collected':'sum', 'Balance': 'sum'}).reset_index()\n",
    "annual_details['Total_avg'] = round(annual_details['Total'] / annual_details['Invoice #'], 2)\n",
    "annual_details['Collected_avg'] = round(annual_details['Collected'] / annual_details['Invoice #'], 2)\n",
    "annual_details['Balance_avg'] = round(annual_details['Balance'] / annual_details['Invoice #'], 2)\n",
    "annual_details.columns = ['Year', '# of Sessions', 'Total Charged', 'Total Collected', 'Toal Outstanding', 'Average Charged', 'Average Collected', 'Average Outstanding']\n",
    "annual_details"
   ]
  },
  {
   "cell_type": "code",
   "execution_count": 33,
   "id": "59e143b8",
   "metadata": {},
   "outputs": [
    {
     "data": {
      "text/html": [
       "<div>\n",
       "<style scoped>\n",
       "    .dataframe tbody tr th:only-of-type {\n",
       "        vertical-align: middle;\n",
       "    }\n",
       "\n",
       "    .dataframe tbody tr th {\n",
       "        vertical-align: top;\n",
       "    }\n",
       "\n",
       "    .dataframe thead th {\n",
       "        text-align: right;\n",
       "    }\n",
       "</style>\n",
       "<table border=\"1\" class=\"dataframe\">\n",
       "  <thead>\n",
       "    <tr style=\"text-align: right;\">\n",
       "      <th></th>\n",
       "      <th>Patient Guid</th>\n",
       "      <th># of Sessions</th>\n",
       "      <th>Total Charged</th>\n",
       "      <th>Total Collected</th>\n",
       "      <th>Total Outstanding</th>\n",
       "      <th>Average Charged</th>\n",
       "      <th>Average Collected</th>\n",
       "      <th>Average Balance</th>\n",
       "    </tr>\n",
       "  </thead>\n",
       "  <tbody>\n",
       "    <tr>\n",
       "      <th>0</th>\n",
       "      <td>29276-100</td>\n",
       "      <td>2</td>\n",
       "      <td>320.0</td>\n",
       "      <td>320.0</td>\n",
       "      <td>0.0</td>\n",
       "      <td>160.00</td>\n",
       "      <td>160.00</td>\n",
       "      <td>0.0</td>\n",
       "    </tr>\n",
       "    <tr>\n",
       "      <th>1</th>\n",
       "      <td>29276-13</td>\n",
       "      <td>3</td>\n",
       "      <td>409.5</td>\n",
       "      <td>409.5</td>\n",
       "      <td>0.0</td>\n",
       "      <td>136.50</td>\n",
       "      <td>136.50</td>\n",
       "      <td>0.0</td>\n",
       "    </tr>\n",
       "    <tr>\n",
       "      <th>2</th>\n",
       "      <td>29276-23</td>\n",
       "      <td>7</td>\n",
       "      <td>975.0</td>\n",
       "      <td>975.0</td>\n",
       "      <td>0.0</td>\n",
       "      <td>139.29</td>\n",
       "      <td>139.29</td>\n",
       "      <td>0.0</td>\n",
       "    </tr>\n",
       "    <tr>\n",
       "      <th>3</th>\n",
       "      <td>29276-26</td>\n",
       "      <td>3</td>\n",
       "      <td>475.0</td>\n",
       "      <td>475.0</td>\n",
       "      <td>0.0</td>\n",
       "      <td>158.33</td>\n",
       "      <td>158.33</td>\n",
       "      <td>0.0</td>\n",
       "    </tr>\n",
       "    <tr>\n",
       "      <th>4</th>\n",
       "      <td>29276-38</td>\n",
       "      <td>4</td>\n",
       "      <td>635.0</td>\n",
       "      <td>635.0</td>\n",
       "      <td>0.0</td>\n",
       "      <td>158.75</td>\n",
       "      <td>158.75</td>\n",
       "      <td>0.0</td>\n",
       "    </tr>\n",
       "  </tbody>\n",
       "</table>\n",
       "</div>"
      ],
      "text/plain": [
       "  Patient Guid  # of Sessions  Total Charged  Total Collected  \\\n",
       "0    29276-100              2          320.0            320.0   \n",
       "1     29276-13              3          409.5            409.5   \n",
       "2     29276-23              7          975.0            975.0   \n",
       "3     29276-26              3          475.0            475.0   \n",
       "4     29276-38              4          635.0            635.0   \n",
       "\n",
       "   Total Outstanding  Average Charged  Average Collected  Average Balance  \n",
       "0                0.0           160.00             160.00              0.0  \n",
       "1                0.0           136.50             136.50              0.0  \n",
       "2                0.0           139.29             139.29              0.0  \n",
       "3                0.0           158.33             158.33              0.0  \n",
       "4                0.0           158.75             158.75              0.0  "
      ]
     },
     "execution_count": 33,
     "metadata": {},
     "output_type": "execute_result"
    }
   ],
   "source": [
    "client_details = df.groupby('Patient Guid', as_index=False).agg({'Invoice #': 'count', 'Total': 'sum', 'Collected':'sum', 'Balance': 'sum'}).reset_index(drop=True)\n",
    "client_details.columns = ['Patient Guid', '# of Sessions', 'Total Charged', 'Total Collected', 'Total Outstanding']\n",
    "client_avgs = df.groupby('Patient Guid', as_index=False).agg({'Total': 'mean', 'Collected':'mean', 'Balance': 'mean'}).reset_index(drop=True)\n",
    "client_avgs.columns = ['Patient Guid', 'Average Charged', 'Average Collected', 'Average Balance']\n",
    "client_details = pd.merge(client_details, client_avgs, how='left', on='Patient Guid')\n",
    "client_details['Average Charged'] = round(client_details['Average Charged'], 2)\n",
    "client_details['Average Collected'] = round(client_details['Average Collected'], 2)\n",
    "\n",
    "client_details.head()"
   ]
  },
  {
   "cell_type": "code",
   "execution_count": 17,
   "id": "f9c25a65",
   "metadata": {},
   "outputs": [
    {
     "data": {
      "text/html": [
       "<div>\n",
       "<style scoped>\n",
       "    .dataframe tbody tr th:only-of-type {\n",
       "        vertical-align: middle;\n",
       "    }\n",
       "\n",
       "    .dataframe tbody tr th {\n",
       "        vertical-align: top;\n",
       "    }\n",
       "\n",
       "    .dataframe thead th {\n",
       "        text-align: right;\n",
       "    }\n",
       "</style>\n",
       "<table border=\"1\" class=\"dataframe\">\n",
       "  <thead>\n",
       "    <tr style=\"text-align: right;\">\n",
       "      <th></th>\n",
       "      <th># of Sessions</th>\n",
       "      <th>Total Charged</th>\n",
       "      <th>Total Collected</th>\n",
       "      <th>Total Outstanding</th>\n",
       "      <th>Average Charge</th>\n",
       "      <th>Average Collected</th>\n",
       "      <th>Average Balance</th>\n",
       "    </tr>\n",
       "  </thead>\n",
       "  <tbody>\n",
       "    <tr>\n",
       "      <th>count</th>\n",
       "      <td>35.000000</td>\n",
       "      <td>35.000000</td>\n",
       "      <td>35.000000</td>\n",
       "      <td>35.000000</td>\n",
       "      <td>35.000000</td>\n",
       "      <td>35.000000</td>\n",
       "      <td>35.000000</td>\n",
       "    </tr>\n",
       "    <tr>\n",
       "      <th>mean</th>\n",
       "      <td>3.200000</td>\n",
       "      <td>481.821429</td>\n",
       "      <td>463.364286</td>\n",
       "      <td>18.457143</td>\n",
       "      <td>150.647714</td>\n",
       "      <td>143.733714</td>\n",
       "      <td>6.914286</td>\n",
       "    </tr>\n",
       "    <tr>\n",
       "      <th>std</th>\n",
       "      <td>1.605139</td>\n",
       "      <td>254.245883</td>\n",
       "      <td>270.345308</td>\n",
       "      <td>71.264356</td>\n",
       "      <td>20.156972</td>\n",
       "      <td>33.676681</td>\n",
       "      <td>25.663527</td>\n",
       "    </tr>\n",
       "    <tr>\n",
       "      <th>min</th>\n",
       "      <td>1.000000</td>\n",
       "      <td>157.500000</td>\n",
       "      <td>62.750000</td>\n",
       "      <td>0.000000</td>\n",
       "      <td>84.000000</td>\n",
       "      <td>20.920000</td>\n",
       "      <td>0.000000</td>\n",
       "    </tr>\n",
       "    <tr>\n",
       "      <th>25%</th>\n",
       "      <td>2.000000</td>\n",
       "      <td>315.000000</td>\n",
       "      <td>315.000000</td>\n",
       "      <td>0.000000</td>\n",
       "      <td>157.500000</td>\n",
       "      <td>153.750000</td>\n",
       "      <td>0.000000</td>\n",
       "    </tr>\n",
       "    <tr>\n",
       "      <th>50%</th>\n",
       "      <td>3.000000</td>\n",
       "      <td>420.000000</td>\n",
       "      <td>409.500000</td>\n",
       "      <td>0.000000</td>\n",
       "      <td>158.330000</td>\n",
       "      <td>158.330000</td>\n",
       "      <td>0.000000</td>\n",
       "    </tr>\n",
       "    <tr>\n",
       "      <th>75%</th>\n",
       "      <td>4.000000</td>\n",
       "      <td>569.500000</td>\n",
       "      <td>569.500000</td>\n",
       "      <td>0.000000</td>\n",
       "      <td>158.750000</td>\n",
       "      <td>158.750000</td>\n",
       "      <td>0.000000</td>\n",
       "    </tr>\n",
       "    <tr>\n",
       "      <th>max</th>\n",
       "      <td>7.000000</td>\n",
       "      <td>1110.000000</td>\n",
       "      <td>1110.000000</td>\n",
       "      <td>386.000000</td>\n",
       "      <td>168.000000</td>\n",
       "      <td>168.000000</td>\n",
       "      <td>128.666667</td>\n",
       "    </tr>\n",
       "  </tbody>\n",
       "</table>\n",
       "</div>"
      ],
      "text/plain": [
       "       # of Sessions  Total Charged  Total Collected  Total Outstanding  \\\n",
       "count      35.000000      35.000000        35.000000          35.000000   \n",
       "mean        3.200000     481.821429       463.364286          18.457143   \n",
       "std         1.605139     254.245883       270.345308          71.264356   \n",
       "min         1.000000     157.500000        62.750000           0.000000   \n",
       "25%         2.000000     315.000000       315.000000           0.000000   \n",
       "50%         3.000000     420.000000       409.500000           0.000000   \n",
       "75%         4.000000     569.500000       569.500000           0.000000   \n",
       "max         7.000000    1110.000000      1110.000000         386.000000   \n",
       "\n",
       "       Average Charge  Average Collected  Average Balance  \n",
       "count       35.000000          35.000000        35.000000  \n",
       "mean       150.647714         143.733714         6.914286  \n",
       "std         20.156972          33.676681        25.663527  \n",
       "min         84.000000          20.920000         0.000000  \n",
       "25%        157.500000         153.750000         0.000000  \n",
       "50%        158.330000         158.330000         0.000000  \n",
       "75%        158.750000         158.750000         0.000000  \n",
       "max        168.000000         168.000000       128.666667  "
      ]
     },
     "execution_count": 17,
     "metadata": {},
     "output_type": "execute_result"
    }
   ],
   "source": [
    "client_details.describe()"
   ]
  },
  {
   "cell_type": "code",
   "execution_count": 7,
   "id": "e144f61b",
   "metadata": {},
   "outputs": [
    {
     "data": {
      "application/vnd.plotly.v1+json": {
       "config": {
        "plotlyServerURL": "https://plot.ly"
       },
       "data": [
        {
         "bingroup": "x",
         "hovertemplate": "Total=%{x}<br>count=%{y}<extra></extra>",
         "legendgroup": "",
         "marker": {
          "color": "#636efa",
          "pattern": {
           "shape": ""
          }
         },
         "name": "",
         "nbinsx": 50,
         "orientation": "v",
         "showlegend": false,
         "type": "histogram",
         "x": {
          "bdata": "AAAAAACwY0AAAAAAALBjQAAAAAAAsGNAAAAAAACwY0AAAAAAAABlQAAAAAAAsGNAAAAAAACAYUAAAAAAAIBhQAAAAAAAsGNAAAAAAACwY0AAAAAAALBjQAAAAAAAAFVAAAAAAACwY0AAAAAAAABkQAAAAAAAsGNAAAAAAACwY0AAAAAAABBhQAAAAAAAsGNAAAAAAAAAVUAAAAAAALBjQAAAAAAAsGNAAAAAAACwY0AAAAAAALBjQAAAAAAAAFlAAAAAAADAYkAAAAAAAIBhQAAAAAAAsGNAAAAAAACwY0AAAAAAALBjQAAAAAAAsGNAAAAAAACwY0AAAAAAALBjQAAAAAAAsGNAAAAAAACwY0AAAAAAALBjQAAAAAAAsGNAAAAAAAAAZUAAAAAAALBjQAAAAAAAgGFAAAAAAACAYUAAAAAAALBjQAAAAAAAsGNAAAAAAACwY0AAAAAAAABVQAAAAAAAsGNAAAAAAACwY0AAAAAAALBjQAAAAAAAsGNAAAAAAACwY0AAAAAAAMBiQAAAAAAAAFVAAAAAAACwY0AAAAAAALBjQAAAAAAAsGNAAAAAAABoYEAAAAAAALBjQAAAAAAAAFlAAAAAAACwY0AAAAAAAIBhQAAAAAAAsGNAAAAAAACwY0AAAAAAALBjQAAAAAAAsGNAAAAAAAAQYUAAAAAAALBjQAAAAAAAsGNAAAAAAACwY0AAAAAAALBjQAAAAAAAAGRAAAAAAAAAZEAAAAAAAABlQAAAAAAAAGRAAAAAAACAYUAAAAAAAIBhQAAAAAAAAGRAAAAAAAAAZEAAAAAAAABkQAAAAAAAAGRAAAAAAAAAZEAAAAAAAABkQAAAAAAAEGFAAAAAAAAAZEAAAAAAAABkQAAAAAAAAFVAAAAAAAAAZEAAAAAAAABkQAAAAAAAAGRAAAAAAAAAZEAAAAAAAABkQAAAAAAAAGRAAAAAAAAAZEAAAAAAAIBhQAAAAAAAAGRAAAAAAAAAVUAAAAAAAABkQAAAAAAAAGRAAAAAAAAAZEAAAAAAAABkQAAAAAAAAFlAAAAAAADgYEAAAAAAAABkQAAAAAAAAGRAAAAAAAAAZEAAAAAAAABkQAAAAAAAAGRAAAAAAAAAZEAAAAAAAABkQAAAAAAAAGRAAAAAAAAAZEAAAAAAAABkQAAAAAAAAGRAAAAAAAAAZEA=",
          "dtype": "f8"
         },
         "xaxis": "x",
         "yaxis": "y"
        }
       ],
       "layout": {
        "barmode": "relative",
        "legend": {
         "tracegroupgap": 0
        },
        "template": {
         "data": {
          "bar": [
           {
            "error_x": {
             "color": "#2a3f5f"
            },
            "error_y": {
             "color": "#2a3f5f"
            },
            "marker": {
             "line": {
              "color": "#E5ECF6",
              "width": 0.5
             },
             "pattern": {
              "fillmode": "overlay",
              "size": 10,
              "solidity": 0.2
             }
            },
            "type": "bar"
           }
          ],
          "barpolar": [
           {
            "marker": {
             "line": {
              "color": "#E5ECF6",
              "width": 0.5
             },
             "pattern": {
              "fillmode": "overlay",
              "size": 10,
              "solidity": 0.2
             }
            },
            "type": "barpolar"
           }
          ],
          "carpet": [
           {
            "aaxis": {
             "endlinecolor": "#2a3f5f",
             "gridcolor": "white",
             "linecolor": "white",
             "minorgridcolor": "white",
             "startlinecolor": "#2a3f5f"
            },
            "baxis": {
             "endlinecolor": "#2a3f5f",
             "gridcolor": "white",
             "linecolor": "white",
             "minorgridcolor": "white",
             "startlinecolor": "#2a3f5f"
            },
            "type": "carpet"
           }
          ],
          "choropleth": [
           {
            "colorbar": {
             "outlinewidth": 0,
             "ticks": ""
            },
            "type": "choropleth"
           }
          ],
          "contour": [
           {
            "colorbar": {
             "outlinewidth": 0,
             "ticks": ""
            },
            "colorscale": [
             [
              0,
              "#0d0887"
             ],
             [
              0.1111111111111111,
              "#46039f"
             ],
             [
              0.2222222222222222,
              "#7201a8"
             ],
             [
              0.3333333333333333,
              "#9c179e"
             ],
             [
              0.4444444444444444,
              "#bd3786"
             ],
             [
              0.5555555555555556,
              "#d8576b"
             ],
             [
              0.6666666666666666,
              "#ed7953"
             ],
             [
              0.7777777777777778,
              "#fb9f3a"
             ],
             [
              0.8888888888888888,
              "#fdca26"
             ],
             [
              1,
              "#f0f921"
             ]
            ],
            "type": "contour"
           }
          ],
          "contourcarpet": [
           {
            "colorbar": {
             "outlinewidth": 0,
             "ticks": ""
            },
            "type": "contourcarpet"
           }
          ],
          "heatmap": [
           {
            "colorbar": {
             "outlinewidth": 0,
             "ticks": ""
            },
            "colorscale": [
             [
              0,
              "#0d0887"
             ],
             [
              0.1111111111111111,
              "#46039f"
             ],
             [
              0.2222222222222222,
              "#7201a8"
             ],
             [
              0.3333333333333333,
              "#9c179e"
             ],
             [
              0.4444444444444444,
              "#bd3786"
             ],
             [
              0.5555555555555556,
              "#d8576b"
             ],
             [
              0.6666666666666666,
              "#ed7953"
             ],
             [
              0.7777777777777778,
              "#fb9f3a"
             ],
             [
              0.8888888888888888,
              "#fdca26"
             ],
             [
              1,
              "#f0f921"
             ]
            ],
            "type": "heatmap"
           }
          ],
          "histogram": [
           {
            "marker": {
             "pattern": {
              "fillmode": "overlay",
              "size": 10,
              "solidity": 0.2
             }
            },
            "type": "histogram"
           }
          ],
          "histogram2d": [
           {
            "colorbar": {
             "outlinewidth": 0,
             "ticks": ""
            },
            "colorscale": [
             [
              0,
              "#0d0887"
             ],
             [
              0.1111111111111111,
              "#46039f"
             ],
             [
              0.2222222222222222,
              "#7201a8"
             ],
             [
              0.3333333333333333,
              "#9c179e"
             ],
             [
              0.4444444444444444,
              "#bd3786"
             ],
             [
              0.5555555555555556,
              "#d8576b"
             ],
             [
              0.6666666666666666,
              "#ed7953"
             ],
             [
              0.7777777777777778,
              "#fb9f3a"
             ],
             [
              0.8888888888888888,
              "#fdca26"
             ],
             [
              1,
              "#f0f921"
             ]
            ],
            "type": "histogram2d"
           }
          ],
          "histogram2dcontour": [
           {
            "colorbar": {
             "outlinewidth": 0,
             "ticks": ""
            },
            "colorscale": [
             [
              0,
              "#0d0887"
             ],
             [
              0.1111111111111111,
              "#46039f"
             ],
             [
              0.2222222222222222,
              "#7201a8"
             ],
             [
              0.3333333333333333,
              "#9c179e"
             ],
             [
              0.4444444444444444,
              "#bd3786"
             ],
             [
              0.5555555555555556,
              "#d8576b"
             ],
             [
              0.6666666666666666,
              "#ed7953"
             ],
             [
              0.7777777777777778,
              "#fb9f3a"
             ],
             [
              0.8888888888888888,
              "#fdca26"
             ],
             [
              1,
              "#f0f921"
             ]
            ],
            "type": "histogram2dcontour"
           }
          ],
          "mesh3d": [
           {
            "colorbar": {
             "outlinewidth": 0,
             "ticks": ""
            },
            "type": "mesh3d"
           }
          ],
          "parcoords": [
           {
            "line": {
             "colorbar": {
              "outlinewidth": 0,
              "ticks": ""
             }
            },
            "type": "parcoords"
           }
          ],
          "pie": [
           {
            "automargin": true,
            "type": "pie"
           }
          ],
          "scatter": [
           {
            "fillpattern": {
             "fillmode": "overlay",
             "size": 10,
             "solidity": 0.2
            },
            "type": "scatter"
           }
          ],
          "scatter3d": [
           {
            "line": {
             "colorbar": {
              "outlinewidth": 0,
              "ticks": ""
             }
            },
            "marker": {
             "colorbar": {
              "outlinewidth": 0,
              "ticks": ""
             }
            },
            "type": "scatter3d"
           }
          ],
          "scattercarpet": [
           {
            "marker": {
             "colorbar": {
              "outlinewidth": 0,
              "ticks": ""
             }
            },
            "type": "scattercarpet"
           }
          ],
          "scattergeo": [
           {
            "marker": {
             "colorbar": {
              "outlinewidth": 0,
              "ticks": ""
             }
            },
            "type": "scattergeo"
           }
          ],
          "scattergl": [
           {
            "marker": {
             "colorbar": {
              "outlinewidth": 0,
              "ticks": ""
             }
            },
            "type": "scattergl"
           }
          ],
          "scattermap": [
           {
            "marker": {
             "colorbar": {
              "outlinewidth": 0,
              "ticks": ""
             }
            },
            "type": "scattermap"
           }
          ],
          "scattermapbox": [
           {
            "marker": {
             "colorbar": {
              "outlinewidth": 0,
              "ticks": ""
             }
            },
            "type": "scattermapbox"
           }
          ],
          "scatterpolar": [
           {
            "marker": {
             "colorbar": {
              "outlinewidth": 0,
              "ticks": ""
             }
            },
            "type": "scatterpolar"
           }
          ],
          "scatterpolargl": [
           {
            "marker": {
             "colorbar": {
              "outlinewidth": 0,
              "ticks": ""
             }
            },
            "type": "scatterpolargl"
           }
          ],
          "scatterternary": [
           {
            "marker": {
             "colorbar": {
              "outlinewidth": 0,
              "ticks": ""
             }
            },
            "type": "scatterternary"
           }
          ],
          "surface": [
           {
            "colorbar": {
             "outlinewidth": 0,
             "ticks": ""
            },
            "colorscale": [
             [
              0,
              "#0d0887"
             ],
             [
              0.1111111111111111,
              "#46039f"
             ],
             [
              0.2222222222222222,
              "#7201a8"
             ],
             [
              0.3333333333333333,
              "#9c179e"
             ],
             [
              0.4444444444444444,
              "#bd3786"
             ],
             [
              0.5555555555555556,
              "#d8576b"
             ],
             [
              0.6666666666666666,
              "#ed7953"
             ],
             [
              0.7777777777777778,
              "#fb9f3a"
             ],
             [
              0.8888888888888888,
              "#fdca26"
             ],
             [
              1,
              "#f0f921"
             ]
            ],
            "type": "surface"
           }
          ],
          "table": [
           {
            "cells": {
             "fill": {
              "color": "#EBF0F8"
             },
             "line": {
              "color": "white"
             }
            },
            "header": {
             "fill": {
              "color": "#C8D4E3"
             },
             "line": {
              "color": "white"
             }
            },
            "type": "table"
           }
          ]
         },
         "layout": {
          "annotationdefaults": {
           "arrowcolor": "#2a3f5f",
           "arrowhead": 0,
           "arrowwidth": 1
          },
          "autotypenumbers": "strict",
          "coloraxis": {
           "colorbar": {
            "outlinewidth": 0,
            "ticks": ""
           }
          },
          "colorscale": {
           "diverging": [
            [
             0,
             "#8e0152"
            ],
            [
             0.1,
             "#c51b7d"
            ],
            [
             0.2,
             "#de77ae"
            ],
            [
             0.3,
             "#f1b6da"
            ],
            [
             0.4,
             "#fde0ef"
            ],
            [
             0.5,
             "#f7f7f7"
            ],
            [
             0.6,
             "#e6f5d0"
            ],
            [
             0.7,
             "#b8e186"
            ],
            [
             0.8,
             "#7fbc41"
            ],
            [
             0.9,
             "#4d9221"
            ],
            [
             1,
             "#276419"
            ]
           ],
           "sequential": [
            [
             0,
             "#0d0887"
            ],
            [
             0.1111111111111111,
             "#46039f"
            ],
            [
             0.2222222222222222,
             "#7201a8"
            ],
            [
             0.3333333333333333,
             "#9c179e"
            ],
            [
             0.4444444444444444,
             "#bd3786"
            ],
            [
             0.5555555555555556,
             "#d8576b"
            ],
            [
             0.6666666666666666,
             "#ed7953"
            ],
            [
             0.7777777777777778,
             "#fb9f3a"
            ],
            [
             0.8888888888888888,
             "#fdca26"
            ],
            [
             1,
             "#f0f921"
            ]
           ],
           "sequentialminus": [
            [
             0,
             "#0d0887"
            ],
            [
             0.1111111111111111,
             "#46039f"
            ],
            [
             0.2222222222222222,
             "#7201a8"
            ],
            [
             0.3333333333333333,
             "#9c179e"
            ],
            [
             0.4444444444444444,
             "#bd3786"
            ],
            [
             0.5555555555555556,
             "#d8576b"
            ],
            [
             0.6666666666666666,
             "#ed7953"
            ],
            [
             0.7777777777777778,
             "#fb9f3a"
            ],
            [
             0.8888888888888888,
             "#fdca26"
            ],
            [
             1,
             "#f0f921"
            ]
           ]
          },
          "colorway": [
           "#636efa",
           "#EF553B",
           "#00cc96",
           "#ab63fa",
           "#FFA15A",
           "#19d3f3",
           "#FF6692",
           "#B6E880",
           "#FF97FF",
           "#FECB52"
          ],
          "font": {
           "color": "#2a3f5f"
          },
          "geo": {
           "bgcolor": "white",
           "lakecolor": "white",
           "landcolor": "#E5ECF6",
           "showlakes": true,
           "showland": true,
           "subunitcolor": "white"
          },
          "hoverlabel": {
           "align": "left"
          },
          "hovermode": "closest",
          "mapbox": {
           "style": "light"
          },
          "paper_bgcolor": "white",
          "plot_bgcolor": "#E5ECF6",
          "polar": {
           "angularaxis": {
            "gridcolor": "white",
            "linecolor": "white",
            "ticks": ""
           },
           "bgcolor": "#E5ECF6",
           "radialaxis": {
            "gridcolor": "white",
            "linecolor": "white",
            "ticks": ""
           }
          },
          "scene": {
           "xaxis": {
            "backgroundcolor": "#E5ECF6",
            "gridcolor": "white",
            "gridwidth": 2,
            "linecolor": "white",
            "showbackground": true,
            "ticks": "",
            "zerolinecolor": "white"
           },
           "yaxis": {
            "backgroundcolor": "#E5ECF6",
            "gridcolor": "white",
            "gridwidth": 2,
            "linecolor": "white",
            "showbackground": true,
            "ticks": "",
            "zerolinecolor": "white"
           },
           "zaxis": {
            "backgroundcolor": "#E5ECF6",
            "gridcolor": "white",
            "gridwidth": 2,
            "linecolor": "white",
            "showbackground": true,
            "ticks": "",
            "zerolinecolor": "white"
           }
          },
          "shapedefaults": {
           "line": {
            "color": "#2a3f5f"
           }
          },
          "ternary": {
           "aaxis": {
            "gridcolor": "white",
            "linecolor": "white",
            "ticks": ""
           },
           "baxis": {
            "gridcolor": "white",
            "linecolor": "white",
            "ticks": ""
           },
           "bgcolor": "#E5ECF6",
           "caxis": {
            "gridcolor": "white",
            "linecolor": "white",
            "ticks": ""
           }
          },
          "title": {
           "x": 0.05
          },
          "xaxis": {
           "automargin": true,
           "gridcolor": "white",
           "linecolor": "white",
           "ticks": "",
           "title": {
            "standoff": 15
           },
           "zerolinecolor": "white",
           "zerolinewidth": 2
          },
          "yaxis": {
           "automargin": true,
           "gridcolor": "white",
           "linecolor": "white",
           "ticks": "",
           "title": {
            "standoff": 15
           },
           "zerolinecolor": "white",
           "zerolinewidth": 2
          }
         }
        },
        "title": {
         "text": "Sliding Scale Distribution by Session Count"
        },
        "xaxis": {
         "anchor": "y",
         "domain": [
          0,
          1
         ],
         "range": [
          0,
          null
         ],
         "title": {
          "text": "Amount Charged"
         }
        },
        "yaxis": {
         "anchor": "x",
         "domain": [
          0,
          1
         ],
         "title": {
          "text": "Session Count"
         }
        }
       }
      }
     },
     "metadata": {},
     "output_type": "display_data"
    }
   ],
   "source": [
    "fig1 = px.histogram(df, x='Total', title='Sliding Scale Distribution by Session Count', nbins=50)\n",
    "fig1.update_layout(xaxis_title='Amount Charged', yaxis_title='Session Count')\n",
    "fig1.update_xaxes(range=[0, None])\n",
    "fig1.show()"
   ]
  },
  {
   "cell_type": "code",
   "execution_count": 34,
   "id": "19c17d5c",
   "metadata": {},
   "outputs": [
    {
     "data": {
      "application/vnd.plotly.v1+json": {
       "config": {
        "plotlyServerURL": "https://plot.ly"
       },
       "data": [
        {
         "bingroup": "x",
         "hovertemplate": "Average Charged=%{x}<br>count=%{y}<extra></extra>",
         "legendgroup": "",
         "marker": {
          "color": "#636efa",
          "pattern": {
           "shape": ""
          }
         },
         "name": "",
         "nbinsx": 50,
         "orientation": "v",
         "showlegend": false,
         "type": "histogram",
         "x": {
          "bdata": "AAAAAAAAZEAAAAAAABBhQOF6FK5HaWFAw/UoXI/KY0AAAAAAANhjQAAAAAAAAFVAAAAAAADQY0DD9Shcj8pjQAAAAAAAsGNAAAAAAADYY0AK16NwPdJjQAAAAAAAwGJAAAAAAAAAWUDD9Shcj8pjQMP1KFyPsmJAAAAAAACwY0AAAAAAANhjQAAAAAAAAGVAAAAAAACwY0AAAAAAANhjQAAAAAAA2GNAw/UoXI/KY0AAAAAAANhjQAAAAAAAsGNAAAAAAADYY0AAAAAAAABVQArXo3A90mNAAAAAAAAAZEAAAAAAANhjQAAAAAAAsGNAAAAAAACwY0AAAAAAAOBjQD0K16Nw5WNAPQrXo3DlY0AAAAAAAIBhQA==",
          "dtype": "f8"
         },
         "xaxis": "x",
         "yaxis": "y"
        }
       ],
       "layout": {
        "barmode": "relative",
        "legend": {
         "tracegroupgap": 0
        },
        "template": {
         "data": {
          "bar": [
           {
            "error_x": {
             "color": "#2a3f5f"
            },
            "error_y": {
             "color": "#2a3f5f"
            },
            "marker": {
             "line": {
              "color": "#E5ECF6",
              "width": 0.5
             },
             "pattern": {
              "fillmode": "overlay",
              "size": 10,
              "solidity": 0.2
             }
            },
            "type": "bar"
           }
          ],
          "barpolar": [
           {
            "marker": {
             "line": {
              "color": "#E5ECF6",
              "width": 0.5
             },
             "pattern": {
              "fillmode": "overlay",
              "size": 10,
              "solidity": 0.2
             }
            },
            "type": "barpolar"
           }
          ],
          "carpet": [
           {
            "aaxis": {
             "endlinecolor": "#2a3f5f",
             "gridcolor": "white",
             "linecolor": "white",
             "minorgridcolor": "white",
             "startlinecolor": "#2a3f5f"
            },
            "baxis": {
             "endlinecolor": "#2a3f5f",
             "gridcolor": "white",
             "linecolor": "white",
             "minorgridcolor": "white",
             "startlinecolor": "#2a3f5f"
            },
            "type": "carpet"
           }
          ],
          "choropleth": [
           {
            "colorbar": {
             "outlinewidth": 0,
             "ticks": ""
            },
            "type": "choropleth"
           }
          ],
          "contour": [
           {
            "colorbar": {
             "outlinewidth": 0,
             "ticks": ""
            },
            "colorscale": [
             [
              0,
              "#0d0887"
             ],
             [
              0.1111111111111111,
              "#46039f"
             ],
             [
              0.2222222222222222,
              "#7201a8"
             ],
             [
              0.3333333333333333,
              "#9c179e"
             ],
             [
              0.4444444444444444,
              "#bd3786"
             ],
             [
              0.5555555555555556,
              "#d8576b"
             ],
             [
              0.6666666666666666,
              "#ed7953"
             ],
             [
              0.7777777777777778,
              "#fb9f3a"
             ],
             [
              0.8888888888888888,
              "#fdca26"
             ],
             [
              1,
              "#f0f921"
             ]
            ],
            "type": "contour"
           }
          ],
          "contourcarpet": [
           {
            "colorbar": {
             "outlinewidth": 0,
             "ticks": ""
            },
            "type": "contourcarpet"
           }
          ],
          "heatmap": [
           {
            "colorbar": {
             "outlinewidth": 0,
             "ticks": ""
            },
            "colorscale": [
             [
              0,
              "#0d0887"
             ],
             [
              0.1111111111111111,
              "#46039f"
             ],
             [
              0.2222222222222222,
              "#7201a8"
             ],
             [
              0.3333333333333333,
              "#9c179e"
             ],
             [
              0.4444444444444444,
              "#bd3786"
             ],
             [
              0.5555555555555556,
              "#d8576b"
             ],
             [
              0.6666666666666666,
              "#ed7953"
             ],
             [
              0.7777777777777778,
              "#fb9f3a"
             ],
             [
              0.8888888888888888,
              "#fdca26"
             ],
             [
              1,
              "#f0f921"
             ]
            ],
            "type": "heatmap"
           }
          ],
          "histogram": [
           {
            "marker": {
             "pattern": {
              "fillmode": "overlay",
              "size": 10,
              "solidity": 0.2
             }
            },
            "type": "histogram"
           }
          ],
          "histogram2d": [
           {
            "colorbar": {
             "outlinewidth": 0,
             "ticks": ""
            },
            "colorscale": [
             [
              0,
              "#0d0887"
             ],
             [
              0.1111111111111111,
              "#46039f"
             ],
             [
              0.2222222222222222,
              "#7201a8"
             ],
             [
              0.3333333333333333,
              "#9c179e"
             ],
             [
              0.4444444444444444,
              "#bd3786"
             ],
             [
              0.5555555555555556,
              "#d8576b"
             ],
             [
              0.6666666666666666,
              "#ed7953"
             ],
             [
              0.7777777777777778,
              "#fb9f3a"
             ],
             [
              0.8888888888888888,
              "#fdca26"
             ],
             [
              1,
              "#f0f921"
             ]
            ],
            "type": "histogram2d"
           }
          ],
          "histogram2dcontour": [
           {
            "colorbar": {
             "outlinewidth": 0,
             "ticks": ""
            },
            "colorscale": [
             [
              0,
              "#0d0887"
             ],
             [
              0.1111111111111111,
              "#46039f"
             ],
             [
              0.2222222222222222,
              "#7201a8"
             ],
             [
              0.3333333333333333,
              "#9c179e"
             ],
             [
              0.4444444444444444,
              "#bd3786"
             ],
             [
              0.5555555555555556,
              "#d8576b"
             ],
             [
              0.6666666666666666,
              "#ed7953"
             ],
             [
              0.7777777777777778,
              "#fb9f3a"
             ],
             [
              0.8888888888888888,
              "#fdca26"
             ],
             [
              1,
              "#f0f921"
             ]
            ],
            "type": "histogram2dcontour"
           }
          ],
          "mesh3d": [
           {
            "colorbar": {
             "outlinewidth": 0,
             "ticks": ""
            },
            "type": "mesh3d"
           }
          ],
          "parcoords": [
           {
            "line": {
             "colorbar": {
              "outlinewidth": 0,
              "ticks": ""
             }
            },
            "type": "parcoords"
           }
          ],
          "pie": [
           {
            "automargin": true,
            "type": "pie"
           }
          ],
          "scatter": [
           {
            "fillpattern": {
             "fillmode": "overlay",
             "size": 10,
             "solidity": 0.2
            },
            "type": "scatter"
           }
          ],
          "scatter3d": [
           {
            "line": {
             "colorbar": {
              "outlinewidth": 0,
              "ticks": ""
             }
            },
            "marker": {
             "colorbar": {
              "outlinewidth": 0,
              "ticks": ""
             }
            },
            "type": "scatter3d"
           }
          ],
          "scattercarpet": [
           {
            "marker": {
             "colorbar": {
              "outlinewidth": 0,
              "ticks": ""
             }
            },
            "type": "scattercarpet"
           }
          ],
          "scattergeo": [
           {
            "marker": {
             "colorbar": {
              "outlinewidth": 0,
              "ticks": ""
             }
            },
            "type": "scattergeo"
           }
          ],
          "scattergl": [
           {
            "marker": {
             "colorbar": {
              "outlinewidth": 0,
              "ticks": ""
             }
            },
            "type": "scattergl"
           }
          ],
          "scattermap": [
           {
            "marker": {
             "colorbar": {
              "outlinewidth": 0,
              "ticks": ""
             }
            },
            "type": "scattermap"
           }
          ],
          "scattermapbox": [
           {
            "marker": {
             "colorbar": {
              "outlinewidth": 0,
              "ticks": ""
             }
            },
            "type": "scattermapbox"
           }
          ],
          "scatterpolar": [
           {
            "marker": {
             "colorbar": {
              "outlinewidth": 0,
              "ticks": ""
             }
            },
            "type": "scatterpolar"
           }
          ],
          "scatterpolargl": [
           {
            "marker": {
             "colorbar": {
              "outlinewidth": 0,
              "ticks": ""
             }
            },
            "type": "scatterpolargl"
           }
          ],
          "scatterternary": [
           {
            "marker": {
             "colorbar": {
              "outlinewidth": 0,
              "ticks": ""
             }
            },
            "type": "scatterternary"
           }
          ],
          "surface": [
           {
            "colorbar": {
             "outlinewidth": 0,
             "ticks": ""
            },
            "colorscale": [
             [
              0,
              "#0d0887"
             ],
             [
              0.1111111111111111,
              "#46039f"
             ],
             [
              0.2222222222222222,
              "#7201a8"
             ],
             [
              0.3333333333333333,
              "#9c179e"
             ],
             [
              0.4444444444444444,
              "#bd3786"
             ],
             [
              0.5555555555555556,
              "#d8576b"
             ],
             [
              0.6666666666666666,
              "#ed7953"
             ],
             [
              0.7777777777777778,
              "#fb9f3a"
             ],
             [
              0.8888888888888888,
              "#fdca26"
             ],
             [
              1,
              "#f0f921"
             ]
            ],
            "type": "surface"
           }
          ],
          "table": [
           {
            "cells": {
             "fill": {
              "color": "#EBF0F8"
             },
             "line": {
              "color": "white"
             }
            },
            "header": {
             "fill": {
              "color": "#C8D4E3"
             },
             "line": {
              "color": "white"
             }
            },
            "type": "table"
           }
          ]
         },
         "layout": {
          "annotationdefaults": {
           "arrowcolor": "#2a3f5f",
           "arrowhead": 0,
           "arrowwidth": 1
          },
          "autotypenumbers": "strict",
          "coloraxis": {
           "colorbar": {
            "outlinewidth": 0,
            "ticks": ""
           }
          },
          "colorscale": {
           "diverging": [
            [
             0,
             "#8e0152"
            ],
            [
             0.1,
             "#c51b7d"
            ],
            [
             0.2,
             "#de77ae"
            ],
            [
             0.3,
             "#f1b6da"
            ],
            [
             0.4,
             "#fde0ef"
            ],
            [
             0.5,
             "#f7f7f7"
            ],
            [
             0.6,
             "#e6f5d0"
            ],
            [
             0.7,
             "#b8e186"
            ],
            [
             0.8,
             "#7fbc41"
            ],
            [
             0.9,
             "#4d9221"
            ],
            [
             1,
             "#276419"
            ]
           ],
           "sequential": [
            [
             0,
             "#0d0887"
            ],
            [
             0.1111111111111111,
             "#46039f"
            ],
            [
             0.2222222222222222,
             "#7201a8"
            ],
            [
             0.3333333333333333,
             "#9c179e"
            ],
            [
             0.4444444444444444,
             "#bd3786"
            ],
            [
             0.5555555555555556,
             "#d8576b"
            ],
            [
             0.6666666666666666,
             "#ed7953"
            ],
            [
             0.7777777777777778,
             "#fb9f3a"
            ],
            [
             0.8888888888888888,
             "#fdca26"
            ],
            [
             1,
             "#f0f921"
            ]
           ],
           "sequentialminus": [
            [
             0,
             "#0d0887"
            ],
            [
             0.1111111111111111,
             "#46039f"
            ],
            [
             0.2222222222222222,
             "#7201a8"
            ],
            [
             0.3333333333333333,
             "#9c179e"
            ],
            [
             0.4444444444444444,
             "#bd3786"
            ],
            [
             0.5555555555555556,
             "#d8576b"
            ],
            [
             0.6666666666666666,
             "#ed7953"
            ],
            [
             0.7777777777777778,
             "#fb9f3a"
            ],
            [
             0.8888888888888888,
             "#fdca26"
            ],
            [
             1,
             "#f0f921"
            ]
           ]
          },
          "colorway": [
           "#636efa",
           "#EF553B",
           "#00cc96",
           "#ab63fa",
           "#FFA15A",
           "#19d3f3",
           "#FF6692",
           "#B6E880",
           "#FF97FF",
           "#FECB52"
          ],
          "font": {
           "color": "#2a3f5f"
          },
          "geo": {
           "bgcolor": "white",
           "lakecolor": "white",
           "landcolor": "#E5ECF6",
           "showlakes": true,
           "showland": true,
           "subunitcolor": "white"
          },
          "hoverlabel": {
           "align": "left"
          },
          "hovermode": "closest",
          "mapbox": {
           "style": "light"
          },
          "paper_bgcolor": "white",
          "plot_bgcolor": "#E5ECF6",
          "polar": {
           "angularaxis": {
            "gridcolor": "white",
            "linecolor": "white",
            "ticks": ""
           },
           "bgcolor": "#E5ECF6",
           "radialaxis": {
            "gridcolor": "white",
            "linecolor": "white",
            "ticks": ""
           }
          },
          "scene": {
           "xaxis": {
            "backgroundcolor": "#E5ECF6",
            "gridcolor": "white",
            "gridwidth": 2,
            "linecolor": "white",
            "showbackground": true,
            "ticks": "",
            "zerolinecolor": "white"
           },
           "yaxis": {
            "backgroundcolor": "#E5ECF6",
            "gridcolor": "white",
            "gridwidth": 2,
            "linecolor": "white",
            "showbackground": true,
            "ticks": "",
            "zerolinecolor": "white"
           },
           "zaxis": {
            "backgroundcolor": "#E5ECF6",
            "gridcolor": "white",
            "gridwidth": 2,
            "linecolor": "white",
            "showbackground": true,
            "ticks": "",
            "zerolinecolor": "white"
           }
          },
          "shapedefaults": {
           "line": {
            "color": "#2a3f5f"
           }
          },
          "ternary": {
           "aaxis": {
            "gridcolor": "white",
            "linecolor": "white",
            "ticks": ""
           },
           "baxis": {
            "gridcolor": "white",
            "linecolor": "white",
            "ticks": ""
           },
           "bgcolor": "#E5ECF6",
           "caxis": {
            "gridcolor": "white",
            "linecolor": "white",
            "ticks": ""
           }
          },
          "title": {
           "x": 0.05
          },
          "xaxis": {
           "automargin": true,
           "gridcolor": "white",
           "linecolor": "white",
           "ticks": "",
           "title": {
            "standoff": 15
           },
           "zerolinecolor": "white",
           "zerolinewidth": 2
          },
          "yaxis": {
           "automargin": true,
           "gridcolor": "white",
           "linecolor": "white",
           "ticks": "",
           "title": {
            "standoff": 15
           },
           "zerolinecolor": "white",
           "zerolinewidth": 2
          }
         }
        },
        "title": {
         "text": "Sliding Scale Distribution by Client Count"
        },
        "xaxis": {
         "anchor": "y",
         "domain": [
          0,
          1
         ],
         "range": [
          0,
          null
         ],
         "title": {
          "text": "Amount Charged"
         }
        },
        "yaxis": {
         "anchor": "x",
         "domain": [
          0,
          1
         ],
         "title": {
          "text": "Client Count"
         }
        }
       }
      }
     },
     "metadata": {},
     "output_type": "display_data"
    }
   ],
   "source": [
    "fig2 = px.histogram(client_details, x='Average Charged', title='Sliding Scale Distribution by Client Count', nbins=50)\n",
    "fig2.update_layout(xaxis_title='Amount Charged', yaxis_title='Client Count')\n",
    "fig2.update_xaxes(range=[0, None])\n",
    "fig2.show()"
   ]
  },
  {
   "cell_type": "code",
   "execution_count": 19,
   "id": "ecef43d4",
   "metadata": {},
   "outputs": [
    {
     "name": "stdout",
     "output_type": "stream",
     "text": [
      "Total Days Worked:  28\n",
      "Average number of sessions per day worked:  4.0\n"
     ]
    }
   ],
   "source": [
    "days_worked = df['Purchase Date'].nunique()\n",
    "avg_sessions_per_day = annual_details.loc[0]['# of Sessions'] / days_worked\n",
    "print('Total Days Worked: ', days_worked)\n",
    "print('Average number of sessions per day worked: ', avg_sessions_per_day)\n"
   ]
  },
  {
   "cell_type": "markdown",
   "id": "20665bea",
   "metadata": {},
   "source": [
    "# March 2024 - Feb 2025 Review"
   ]
  },
  {
   "cell_type": "code",
   "execution_count": 59,
   "id": "8499c449",
   "metadata": {},
   "outputs": [],
   "source": [
    "df = pd.read_csv('Sales_20240301_20250228.csv')\n",
    "df.columns = df.columns.str.strip()\n",
    "df.drop(columns=['Invoice Date', 'Unnamed: 4', 'Subtotal', 'Location', 'Staff Member', 'Income Category', 'Payer', 'Details'], inplace=True)\n",
    "df['Purchase Date'] = pd.to_datetime(df['Purchase Date'], format='%Y-%m-%d')\n",
    "\n",
    "monthly_details = df.groupby(df['Purchase Date'].dt.to_period('M')).agg({'Invoice #': 'count', 'Patient Guid': pd.Series.nunique, 'Total': 'sum', 'Collected':'sum', 'Balance': 'sum'}).reset_index()\n",
    "monthly_details['Total_avg'] = round(monthly_details['Total'] / monthly_details['Invoice #'], 2)\n",
    "monthly_details['Collected_avg'] = round(monthly_details['Collected'] / monthly_details['Invoice #'], 2)\n",
    "monthly_details['Balance_avg'] = round(monthly_details['Balance'] / monthly_details['Invoice #'], 2)\n",
    "monthly_details.columns = ['Month', '# of Sessions', 'Unique Clients', 'Total Charged', 'Total Collected', 'Toal Outstanding', 'Average Charged', 'Average Collected', 'Average Outstanding']\n",
    "\n",
    "annual_details = df.groupby(df['Purchase Date'].dt.to_period('Y')).agg({'Invoice #': 'count', 'Patient Guid': pd.Series.nunique, 'Total': 'sum', 'Collected':'sum', 'Balance': 'sum'}).reset_index()\n",
    "annual_details['Total_avg'] = round(annual_details['Total'] / annual_details['Invoice #'], 2)\n",
    "annual_details['Collected_avg'] = round(annual_details['Collected'] / annual_details['Invoice #'], 2)\n",
    "annual_details['Balance_avg'] = round(annual_details['Balance'] / annual_details['Invoice #'], 2)\n",
    "annual_details.columns = ['Year', '# of Sessions', 'Unique Clients', 'Total Charged', 'Total Collected', 'Toal Outstanding', 'Average Charged', 'Average Collected', 'Average Outstanding']\n",
    "\n",
    "client_details = df.groupby('Patient Guid', as_index=False).agg({'Invoice #': 'count', 'Total': 'sum', 'Collected':'sum', 'Balance': 'sum'}).reset_index(drop=True)\n",
    "client_details.columns = ['Patient Guid', '# of Sessions', 'Total Charged', 'Total Collected', 'Total Outstanding']\n",
    "client_avgs = df.groupby('Patient Guid', as_index=False).agg({'Total': 'mean', 'Collected':'mean', 'Balance': 'mean'}).reset_index(drop=True)\n",
    "client_avgs.columns = ['Patient Guid', 'Average Charged', 'Average Collected', 'Average Balance']\n",
    "client_details = pd.merge(client_details, client_avgs, how='left', on='Patient Guid')\n",
    "client_details['Average Charged'] = round(client_details['Average Charged'], 2)\n",
    "client_details['Average Collected'] = round(client_details['Average Collected'], 2)"
   ]
  },
  {
   "cell_type": "code",
   "execution_count": null,
   "id": "3fa507f7",
   "metadata": {},
   "outputs": [
    {
     "name": "stdout",
     "output_type": "stream",
     "text": [
      "Total Days Clients Seen:  185\n",
      "Total Sessions:  745\n",
      "Average number of sessions per day worked:  4.03\n",
      "Total unique clients:  48\n",
      "Average rate charged:  $147.61\n",
      "Total revenue:  $109,740.50\n"
     ]
    }
   ],
   "source": [
    "days_worked = df['Purchase Date'].nunique()\n",
    "avg_sessions_per_day = round(len(df) / days_worked, 2)\n",
    "avg_charged = df['Total'].mean()\n",
    "total_clients = df['Patient Guid'].nunique()\n",
    "total_revenue = df['Collected'].sum()\n",
    "\n",
    "print('Total Days Clients Seen: ', days_worked)\n",
    "# add total days worked = client days plus a friday for each week any clients were seen\n",
    "print('Total Sessions: ', len(df))\n",
    "print('Average number of sessions per day worked: ', avg_sessions_per_day)\n",
    "print('Total unique clients: ', total_clients)\n",
    "print('Average rate charged: ', locale.currency(avg_charged, grouping=True))\n",
    "print('Total revenue: ', locale.currency(total_revenue, grouping=True))"
   ]
  },
  {
   "cell_type": "code",
   "execution_count": 60,
   "id": "7c0f59d1",
   "metadata": {},
   "outputs": [
    {
     "data": {
      "text/html": [
       "<div>\n",
       "<style scoped>\n",
       "    .dataframe tbody tr th:only-of-type {\n",
       "        vertical-align: middle;\n",
       "    }\n",
       "\n",
       "    .dataframe tbody tr th {\n",
       "        vertical-align: top;\n",
       "    }\n",
       "\n",
       "    .dataframe thead th {\n",
       "        text-align: right;\n",
       "    }\n",
       "</style>\n",
       "<table border=\"1\" class=\"dataframe\">\n",
       "  <thead>\n",
       "    <tr style=\"text-align: right;\">\n",
       "      <th></th>\n",
       "      <th>Month</th>\n",
       "      <th># of Sessions</th>\n",
       "      <th>Unique Clients</th>\n",
       "      <th>Total Charged</th>\n",
       "      <th>Total Collected</th>\n",
       "      <th>Toal Outstanding</th>\n",
       "      <th>Average Charged</th>\n",
       "      <th>Average Collected</th>\n",
       "      <th>Average Outstanding</th>\n",
       "    </tr>\n",
       "  </thead>\n",
       "  <tbody>\n",
       "    <tr>\n",
       "      <th>0</th>\n",
       "      <td>2024-03</td>\n",
       "      <td>67</td>\n",
       "      <td>35</td>\n",
       "      <td>9707.00</td>\n",
       "      <td>9707.00</td>\n",
       "      <td>0.0</td>\n",
       "      <td>144.88</td>\n",
       "      <td>144.88</td>\n",
       "      <td>0.00</td>\n",
       "    </tr>\n",
       "    <tr>\n",
       "      <th>1</th>\n",
       "      <td>2024-04</td>\n",
       "      <td>67</td>\n",
       "      <td>34</td>\n",
       "      <td>9991.00</td>\n",
       "      <td>9991.00</td>\n",
       "      <td>0.0</td>\n",
       "      <td>149.12</td>\n",
       "      <td>149.12</td>\n",
       "      <td>0.00</td>\n",
       "    </tr>\n",
       "    <tr>\n",
       "      <th>2</th>\n",
       "      <td>2024-05</td>\n",
       "      <td>59</td>\n",
       "      <td>33</td>\n",
       "      <td>8515.00</td>\n",
       "      <td>8515.00</td>\n",
       "      <td>0.0</td>\n",
       "      <td>144.32</td>\n",
       "      <td>144.32</td>\n",
       "      <td>0.00</td>\n",
       "    </tr>\n",
       "    <tr>\n",
       "      <th>3</th>\n",
       "      <td>2024-06</td>\n",
       "      <td>58</td>\n",
       "      <td>33</td>\n",
       "      <td>8571.75</td>\n",
       "      <td>8571.75</td>\n",
       "      <td>0.0</td>\n",
       "      <td>147.79</td>\n",
       "      <td>147.79</td>\n",
       "      <td>0.00</td>\n",
       "    </tr>\n",
       "    <tr>\n",
       "      <th>4</th>\n",
       "      <td>2024-07</td>\n",
       "      <td>63</td>\n",
       "      <td>32</td>\n",
       "      <td>9266.75</td>\n",
       "      <td>9266.75</td>\n",
       "      <td>0.0</td>\n",
       "      <td>147.09</td>\n",
       "      <td>147.09</td>\n",
       "      <td>0.00</td>\n",
       "    </tr>\n",
       "    <tr>\n",
       "      <th>5</th>\n",
       "      <td>2024-08</td>\n",
       "      <td>65</td>\n",
       "      <td>32</td>\n",
       "      <td>9522.00</td>\n",
       "      <td>9522.00</td>\n",
       "      <td>0.0</td>\n",
       "      <td>146.49</td>\n",
       "      <td>146.49</td>\n",
       "      <td>0.00</td>\n",
       "    </tr>\n",
       "    <tr>\n",
       "      <th>6</th>\n",
       "      <td>2024-09</td>\n",
       "      <td>47</td>\n",
       "      <td>30</td>\n",
       "      <td>6899.00</td>\n",
       "      <td>6899.00</td>\n",
       "      <td>0.0</td>\n",
       "      <td>146.79</td>\n",
       "      <td>146.79</td>\n",
       "      <td>0.00</td>\n",
       "    </tr>\n",
       "    <tr>\n",
       "      <th>7</th>\n",
       "      <td>2024-10</td>\n",
       "      <td>81</td>\n",
       "      <td>36</td>\n",
       "      <td>11900.75</td>\n",
       "      <td>11900.75</td>\n",
       "      <td>0.0</td>\n",
       "      <td>146.92</td>\n",
       "      <td>146.92</td>\n",
       "      <td>0.00</td>\n",
       "    </tr>\n",
       "    <tr>\n",
       "      <th>8</th>\n",
       "      <td>2024-11</td>\n",
       "      <td>62</td>\n",
       "      <td>31</td>\n",
       "      <td>9427.25</td>\n",
       "      <td>9427.25</td>\n",
       "      <td>0.0</td>\n",
       "      <td>152.05</td>\n",
       "      <td>152.05</td>\n",
       "      <td>0.00</td>\n",
       "    </tr>\n",
       "    <tr>\n",
       "      <th>9</th>\n",
       "      <td>2024-12</td>\n",
       "      <td>48</td>\n",
       "      <td>29</td>\n",
       "      <td>7135.00</td>\n",
       "      <td>7135.00</td>\n",
       "      <td>0.0</td>\n",
       "      <td>148.65</td>\n",
       "      <td>148.65</td>\n",
       "      <td>0.00</td>\n",
       "    </tr>\n",
       "    <tr>\n",
       "      <th>10</th>\n",
       "      <td>2025-01</td>\n",
       "      <td>61</td>\n",
       "      <td>31</td>\n",
       "      <td>9052.25</td>\n",
       "      <td>9052.25</td>\n",
       "      <td>0.0</td>\n",
       "      <td>148.40</td>\n",
       "      <td>148.40</td>\n",
       "      <td>0.00</td>\n",
       "    </tr>\n",
       "    <tr>\n",
       "      <th>11</th>\n",
       "      <td>2025-02</td>\n",
       "      <td>67</td>\n",
       "      <td>34</td>\n",
       "      <td>9978.75</td>\n",
       "      <td>9752.75</td>\n",
       "      <td>226.0</td>\n",
       "      <td>148.94</td>\n",
       "      <td>145.56</td>\n",
       "      <td>3.37</td>\n",
       "    </tr>\n",
       "  </tbody>\n",
       "</table>\n",
       "</div>"
      ],
      "text/plain": [
       "      Month  # of Sessions  Unique Clients  Total Charged  Total Collected  \\\n",
       "0   2024-03             67              35        9707.00          9707.00   \n",
       "1   2024-04             67              34        9991.00          9991.00   \n",
       "2   2024-05             59              33        8515.00          8515.00   \n",
       "3   2024-06             58              33        8571.75          8571.75   \n",
       "4   2024-07             63              32        9266.75          9266.75   \n",
       "5   2024-08             65              32        9522.00          9522.00   \n",
       "6   2024-09             47              30        6899.00          6899.00   \n",
       "7   2024-10             81              36       11900.75         11900.75   \n",
       "8   2024-11             62              31        9427.25          9427.25   \n",
       "9   2024-12             48              29        7135.00          7135.00   \n",
       "10  2025-01             61              31        9052.25          9052.25   \n",
       "11  2025-02             67              34        9978.75          9752.75   \n",
       "\n",
       "    Toal Outstanding  Average Charged  Average Collected  Average Outstanding  \n",
       "0                0.0           144.88             144.88                 0.00  \n",
       "1                0.0           149.12             149.12                 0.00  \n",
       "2                0.0           144.32             144.32                 0.00  \n",
       "3                0.0           147.79             147.79                 0.00  \n",
       "4                0.0           147.09             147.09                 0.00  \n",
       "5                0.0           146.49             146.49                 0.00  \n",
       "6                0.0           146.79             146.79                 0.00  \n",
       "7                0.0           146.92             146.92                 0.00  \n",
       "8                0.0           152.05             152.05                 0.00  \n",
       "9                0.0           148.65             148.65                 0.00  \n",
       "10               0.0           148.40             148.40                 0.00  \n",
       "11             226.0           148.94             145.56                 3.37  "
      ]
     },
     "execution_count": 60,
     "metadata": {},
     "output_type": "execute_result"
    }
   ],
   "source": [
    "monthly_details"
   ]
  },
  {
   "cell_type": "code",
   "execution_count": 61,
   "id": "06a83e45",
   "metadata": {},
   "outputs": [
    {
     "data": {
      "text/html": [
       "<div>\n",
       "<style scoped>\n",
       "    .dataframe tbody tr th:only-of-type {\n",
       "        vertical-align: middle;\n",
       "    }\n",
       "\n",
       "    .dataframe tbody tr th {\n",
       "        vertical-align: top;\n",
       "    }\n",
       "\n",
       "    .dataframe thead th {\n",
       "        text-align: right;\n",
       "    }\n",
       "</style>\n",
       "<table border=\"1\" class=\"dataframe\">\n",
       "  <thead>\n",
       "    <tr style=\"text-align: right;\">\n",
       "      <th></th>\n",
       "      <th>Year</th>\n",
       "      <th># of Sessions</th>\n",
       "      <th>Unique Clients</th>\n",
       "      <th>Total Charged</th>\n",
       "      <th>Total Collected</th>\n",
       "      <th>Toal Outstanding</th>\n",
       "      <th>Average Charged</th>\n",
       "      <th>Average Collected</th>\n",
       "      <th>Average Outstanding</th>\n",
       "    </tr>\n",
       "  </thead>\n",
       "  <tbody>\n",
       "    <tr>\n",
       "      <th>0</th>\n",
       "      <td>2024</td>\n",
       "      <td>617</td>\n",
       "      <td>47</td>\n",
       "      <td>90935.5</td>\n",
       "      <td>90935.5</td>\n",
       "      <td>0.0</td>\n",
       "      <td>147.38</td>\n",
       "      <td>147.38</td>\n",
       "      <td>0.00</td>\n",
       "    </tr>\n",
       "    <tr>\n",
       "      <th>1</th>\n",
       "      <td>2025</td>\n",
       "      <td>128</td>\n",
       "      <td>36</td>\n",
       "      <td>19031.0</td>\n",
       "      <td>18805.0</td>\n",
       "      <td>226.0</td>\n",
       "      <td>148.68</td>\n",
       "      <td>146.91</td>\n",
       "      <td>1.77</td>\n",
       "    </tr>\n",
       "  </tbody>\n",
       "</table>\n",
       "</div>"
      ],
      "text/plain": [
       "   Year  # of Sessions  Unique Clients  Total Charged  Total Collected  \\\n",
       "0  2024            617              47        90935.5          90935.5   \n",
       "1  2025            128              36        19031.0          18805.0   \n",
       "\n",
       "   Toal Outstanding  Average Charged  Average Collected  Average Outstanding  \n",
       "0               0.0           147.38             147.38                 0.00  \n",
       "1             226.0           148.68             146.91                 1.77  "
      ]
     },
     "execution_count": 61,
     "metadata": {},
     "output_type": "execute_result"
    }
   ],
   "source": [
    "annual_details"
   ]
  },
  {
   "cell_type": "code",
   "execution_count": 62,
   "id": "03c23af2",
   "metadata": {},
   "outputs": [
    {
     "data": {
      "application/vnd.plotly.v1+json": {
       "config": {
        "plotlyServerURL": "https://plot.ly"
       },
       "data": [
        {
         "bingroup": "x",
         "hovertemplate": "Total=%{x}<br>count=%{y}<extra></extra>",
         "legendgroup": "",
         "marker": {
          "color": "#636efa",
          "pattern": {
           "shape": ""
          }
         },
         "name": "",
         "nbinsx": 50,
         "orientation": "v",
         "showlegend": false,
         "type": "histogram",
         "x": {
          "bdata": "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",
          "dtype": "f8"
         },
         "xaxis": "x",
         "yaxis": "y"
        }
       ],
       "layout": {
        "barmode": "relative",
        "legend": {
         "tracegroupgap": 0
        },
        "template": {
         "data": {
          "bar": [
           {
            "error_x": {
             "color": "#2a3f5f"
            },
            "error_y": {
             "color": "#2a3f5f"
            },
            "marker": {
             "line": {
              "color": "#E5ECF6",
              "width": 0.5
             },
             "pattern": {
              "fillmode": "overlay",
              "size": 10,
              "solidity": 0.2
             }
            },
            "type": "bar"
           }
          ],
          "barpolar": [
           {
            "marker": {
             "line": {
              "color": "#E5ECF6",
              "width": 0.5
             },
             "pattern": {
              "fillmode": "overlay",
              "size": 10,
              "solidity": 0.2
             }
            },
            "type": "barpolar"
           }
          ],
          "carpet": [
           {
            "aaxis": {
             "endlinecolor": "#2a3f5f",
             "gridcolor": "white",
             "linecolor": "white",
             "minorgridcolor": "white",
             "startlinecolor": "#2a3f5f"
            },
            "baxis": {
             "endlinecolor": "#2a3f5f",
             "gridcolor": "white",
             "linecolor": "white",
             "minorgridcolor": "white",
             "startlinecolor": "#2a3f5f"
            },
            "type": "carpet"
           }
          ],
          "choropleth": [
           {
            "colorbar": {
             "outlinewidth": 0,
             "ticks": ""
            },
            "type": "choropleth"
           }
          ],
          "contour": [
           {
            "colorbar": {
             "outlinewidth": 0,
             "ticks": ""
            },
            "colorscale": [
             [
              0,
              "#0d0887"
             ],
             [
              0.1111111111111111,
              "#46039f"
             ],
             [
              0.2222222222222222,
              "#7201a8"
             ],
             [
              0.3333333333333333,
              "#9c179e"
             ],
             [
              0.4444444444444444,
              "#bd3786"
             ],
             [
              0.5555555555555556,
              "#d8576b"
             ],
             [
              0.6666666666666666,
              "#ed7953"
             ],
             [
              0.7777777777777778,
              "#fb9f3a"
             ],
             [
              0.8888888888888888,
              "#fdca26"
             ],
             [
              1,
              "#f0f921"
             ]
            ],
            "type": "contour"
           }
          ],
          "contourcarpet": [
           {
            "colorbar": {
             "outlinewidth": 0,
             "ticks": ""
            },
            "type": "contourcarpet"
           }
          ],
          "heatmap": [
           {
            "colorbar": {
             "outlinewidth": 0,
             "ticks": ""
            },
            "colorscale": [
             [
              0,
              "#0d0887"
             ],
             [
              0.1111111111111111,
              "#46039f"
             ],
             [
              0.2222222222222222,
              "#7201a8"
             ],
             [
              0.3333333333333333,
              "#9c179e"
             ],
             [
              0.4444444444444444,
              "#bd3786"
             ],
             [
              0.5555555555555556,
              "#d8576b"
             ],
             [
              0.6666666666666666,
              "#ed7953"
             ],
             [
              0.7777777777777778,
              "#fb9f3a"
             ],
             [
              0.8888888888888888,
              "#fdca26"
             ],
             [
              1,
              "#f0f921"
             ]
            ],
            "type": "heatmap"
           }
          ],
          "histogram": [
           {
            "marker": {
             "pattern": {
              "fillmode": "overlay",
              "size": 10,
              "solidity": 0.2
             }
            },
            "type": "histogram"
           }
          ],
          "histogram2d": [
           {
            "colorbar": {
             "outlinewidth": 0,
             "ticks": ""
            },
            "colorscale": [
             [
              0,
              "#0d0887"
             ],
             [
              0.1111111111111111,
              "#46039f"
             ],
             [
              0.2222222222222222,
              "#7201a8"
             ],
             [
              0.3333333333333333,
              "#9c179e"
             ],
             [
              0.4444444444444444,
              "#bd3786"
             ],
             [
              0.5555555555555556,
              "#d8576b"
             ],
             [
              0.6666666666666666,
              "#ed7953"
             ],
             [
              0.7777777777777778,
              "#fb9f3a"
             ],
             [
              0.8888888888888888,
              "#fdca26"
             ],
             [
              1,
              "#f0f921"
             ]
            ],
            "type": "histogram2d"
           }
          ],
          "histogram2dcontour": [
           {
            "colorbar": {
             "outlinewidth": 0,
             "ticks": ""
            },
            "colorscale": [
             [
              0,
              "#0d0887"
             ],
             [
              0.1111111111111111,
              "#46039f"
             ],
             [
              0.2222222222222222,
              "#7201a8"
             ],
             [
              0.3333333333333333,
              "#9c179e"
             ],
             [
              0.4444444444444444,
              "#bd3786"
             ],
             [
              0.5555555555555556,
              "#d8576b"
             ],
             [
              0.6666666666666666,
              "#ed7953"
             ],
             [
              0.7777777777777778,
              "#fb9f3a"
             ],
             [
              0.8888888888888888,
              "#fdca26"
             ],
             [
              1,
              "#f0f921"
             ]
            ],
            "type": "histogram2dcontour"
           }
          ],
          "mesh3d": [
           {
            "colorbar": {
             "outlinewidth": 0,
             "ticks": ""
            },
            "type": "mesh3d"
           }
          ],
          "parcoords": [
           {
            "line": {
             "colorbar": {
              "outlinewidth": 0,
              "ticks": ""
             }
            },
            "type": "parcoords"
           }
          ],
          "pie": [
           {
            "automargin": true,
            "type": "pie"
           }
          ],
          "scatter": [
           {
            "fillpattern": {
             "fillmode": "overlay",
             "size": 10,
             "solidity": 0.2
            },
            "type": "scatter"
           }
          ],
          "scatter3d": [
           {
            "line": {
             "colorbar": {
              "outlinewidth": 0,
              "ticks": ""
             }
            },
            "marker": {
             "colorbar": {
              "outlinewidth": 0,
              "ticks": ""
             }
            },
            "type": "scatter3d"
           }
          ],
          "scattercarpet": [
           {
            "marker": {
             "colorbar": {
              "outlinewidth": 0,
              "ticks": ""
             }
            },
            "type": "scattercarpet"
           }
          ],
          "scattergeo": [
           {
            "marker": {
             "colorbar": {
              "outlinewidth": 0,
              "ticks": ""
             }
            },
            "type": "scattergeo"
           }
          ],
          "scattergl": [
           {
            "marker": {
             "colorbar": {
              "outlinewidth": 0,
              "ticks": ""
             }
            },
            "type": "scattergl"
           }
          ],
          "scattermap": [
           {
            "marker": {
             "colorbar": {
              "outlinewidth": 0,
              "ticks": ""
             }
            },
            "type": "scattermap"
           }
          ],
          "scattermapbox": [
           {
            "marker": {
             "colorbar": {
              "outlinewidth": 0,
              "ticks": ""
             }
            },
            "type": "scattermapbox"
           }
          ],
          "scatterpolar": [
           {
            "marker": {
             "colorbar": {
              "outlinewidth": 0,
              "ticks": ""
             }
            },
            "type": "scatterpolar"
           }
          ],
          "scatterpolargl": [
           {
            "marker": {
             "colorbar": {
              "outlinewidth": 0,
              "ticks": ""
             }
            },
            "type": "scatterpolargl"
           }
          ],
          "scatterternary": [
           {
            "marker": {
             "colorbar": {
              "outlinewidth": 0,
              "ticks": ""
             }
            },
            "type": "scatterternary"
           }
          ],
          "surface": [
           {
            "colorbar": {
             "outlinewidth": 0,
             "ticks": ""
            },
            "colorscale": [
             [
              0,
              "#0d0887"
             ],
             [
              0.1111111111111111,
              "#46039f"
             ],
             [
              0.2222222222222222,
              "#7201a8"
             ],
             [
              0.3333333333333333,
              "#9c179e"
             ],
             [
              0.4444444444444444,
              "#bd3786"
             ],
             [
              0.5555555555555556,
              "#d8576b"
             ],
             [
              0.6666666666666666,
              "#ed7953"
             ],
             [
              0.7777777777777778,
              "#fb9f3a"
             ],
             [
              0.8888888888888888,
              "#fdca26"
             ],
             [
              1,
              "#f0f921"
             ]
            ],
            "type": "surface"
           }
          ],
          "table": [
           {
            "cells": {
             "fill": {
              "color": "#EBF0F8"
             },
             "line": {
              "color": "white"
             }
            },
            "header": {
             "fill": {
              "color": "#C8D4E3"
             },
             "line": {
              "color": "white"
             }
            },
            "type": "table"
           }
          ]
         },
         "layout": {
          "annotationdefaults": {
           "arrowcolor": "#2a3f5f",
           "arrowhead": 0,
           "arrowwidth": 1
          },
          "autotypenumbers": "strict",
          "coloraxis": {
           "colorbar": {
            "outlinewidth": 0,
            "ticks": ""
           }
          },
          "colorscale": {
           "diverging": [
            [
             0,
             "#8e0152"
            ],
            [
             0.1,
             "#c51b7d"
            ],
            [
             0.2,
             "#de77ae"
            ],
            [
             0.3,
             "#f1b6da"
            ],
            [
             0.4,
             "#fde0ef"
            ],
            [
             0.5,
             "#f7f7f7"
            ],
            [
             0.6,
             "#e6f5d0"
            ],
            [
             0.7,
             "#b8e186"
            ],
            [
             0.8,
             "#7fbc41"
            ],
            [
             0.9,
             "#4d9221"
            ],
            [
             1,
             "#276419"
            ]
           ],
           "sequential": [
            [
             0,
             "#0d0887"
            ],
            [
             0.1111111111111111,
             "#46039f"
            ],
            [
             0.2222222222222222,
             "#7201a8"
            ],
            [
             0.3333333333333333,
             "#9c179e"
            ],
            [
             0.4444444444444444,
             "#bd3786"
            ],
            [
             0.5555555555555556,
             "#d8576b"
            ],
            [
             0.6666666666666666,
             "#ed7953"
            ],
            [
             0.7777777777777778,
             "#fb9f3a"
            ],
            [
             0.8888888888888888,
             "#fdca26"
            ],
            [
             1,
             "#f0f921"
            ]
           ],
           "sequentialminus": [
            [
             0,
             "#0d0887"
            ],
            [
             0.1111111111111111,
             "#46039f"
            ],
            [
             0.2222222222222222,
             "#7201a8"
            ],
            [
             0.3333333333333333,
             "#9c179e"
            ],
            [
             0.4444444444444444,
             "#bd3786"
            ],
            [
             0.5555555555555556,
             "#d8576b"
            ],
            [
             0.6666666666666666,
             "#ed7953"
            ],
            [
             0.7777777777777778,
             "#fb9f3a"
            ],
            [
             0.8888888888888888,
             "#fdca26"
            ],
            [
             1,
             "#f0f921"
            ]
           ]
          },
          "colorway": [
           "#636efa",
           "#EF553B",
           "#00cc96",
           "#ab63fa",
           "#FFA15A",
           "#19d3f3",
           "#FF6692",
           "#B6E880",
           "#FF97FF",
           "#FECB52"
          ],
          "font": {
           "color": "#2a3f5f"
          },
          "geo": {
           "bgcolor": "white",
           "lakecolor": "white",
           "landcolor": "#E5ECF6",
           "showlakes": true,
           "showland": true,
           "subunitcolor": "white"
          },
          "hoverlabel": {
           "align": "left"
          },
          "hovermode": "closest",
          "mapbox": {
           "style": "light"
          },
          "paper_bgcolor": "white",
          "plot_bgcolor": "#E5ECF6",
          "polar": {
           "angularaxis": {
            "gridcolor": "white",
            "linecolor": "white",
            "ticks": ""
           },
           "bgcolor": "#E5ECF6",
           "radialaxis": {
            "gridcolor": "white",
            "linecolor": "white",
            "ticks": ""
           }
          },
          "scene": {
           "xaxis": {
            "backgroundcolor": "#E5ECF6",
            "gridcolor": "white",
            "gridwidth": 2,
            "linecolor": "white",
            "showbackground": true,
            "ticks": "",
            "zerolinecolor": "white"
           },
           "yaxis": {
            "backgroundcolor": "#E5ECF6",
            "gridcolor": "white",
            "gridwidth": 2,
            "linecolor": "white",
            "showbackground": true,
            "ticks": "",
            "zerolinecolor": "white"
           },
           "zaxis": {
            "backgroundcolor": "#E5ECF6",
            "gridcolor": "white",
            "gridwidth": 2,
            "linecolor": "white",
            "showbackground": true,
            "ticks": "",
            "zerolinecolor": "white"
           }
          },
          "shapedefaults": {
           "line": {
            "color": "#2a3f5f"
           }
          },
          "ternary": {
           "aaxis": {
            "gridcolor": "white",
            "linecolor": "white",
            "ticks": ""
           },
           "baxis": {
            "gridcolor": "white",
            "linecolor": "white",
            "ticks": ""
           },
           "bgcolor": "#E5ECF6",
           "caxis": {
            "gridcolor": "white",
            "linecolor": "white",
            "ticks": ""
           }
          },
          "title": {
           "x": 0.05
          },
          "xaxis": {
           "automargin": true,
           "gridcolor": "white",
           "linecolor": "white",
           "ticks": "",
           "title": {
            "standoff": 15
           },
           "zerolinecolor": "white",
           "zerolinewidth": 2
          },
          "yaxis": {
           "automargin": true,
           "gridcolor": "white",
           "linecolor": "white",
           "ticks": "",
           "title": {
            "standoff": 15
           },
           "zerolinecolor": "white",
           "zerolinewidth": 2
          }
         }
        },
        "title": {
         "text": "Sliding Scale Distribution by Session Count"
        },
        "xaxis": {
         "anchor": "y",
         "domain": [
          0,
          1
         ],
         "range": [
          0,
          null
         ],
         "title": {
          "text": "Amount Charged"
         }
        },
        "yaxis": {
         "anchor": "x",
         "domain": [
          0,
          1
         ],
         "title": {
          "text": "Session Count"
         }
        }
       }
      }
     },
     "metadata": {},
     "output_type": "display_data"
    }
   ],
   "source": [
    "fig1 = px.histogram(df, x='Total', title='Sliding Scale Distribution by Session Count', nbins=50)\n",
    "fig1.update_layout(xaxis_title='Amount Charged', yaxis_title='Session Count')\n",
    "fig1.update_xaxes(range=[0, None])\n",
    "fig1.show()"
   ]
  },
  {
   "cell_type": "markdown",
   "id": "2a1ff029",
   "metadata": {},
   "source": [
    "# Frequency calc"
   ]
  },
  {
   "cell_type": "code",
   "execution_count": 26,
   "id": "2d72eb1a",
   "metadata": {},
   "outputs": [],
   "source": [
    "df = df.sort_values(by=['Patient Guid', 'Purchase Date'])\n",
    "df['Days Between'] = df.groupby('Patient Guid')['Purchase Date'].diff().dt.days"
   ]
  },
  {
   "cell_type": "code",
   "execution_count": 27,
   "id": "504ce606",
   "metadata": {},
   "outputs": [
    {
     "data": {
      "text/html": [
       "<div>\n",
       "<style scoped>\n",
       "    .dataframe tbody tr th:only-of-type {\n",
       "        vertical-align: middle;\n",
       "    }\n",
       "\n",
       "    .dataframe tbody tr th {\n",
       "        vertical-align: top;\n",
       "    }\n",
       "\n",
       "    .dataframe thead th {\n",
       "        text-align: right;\n",
       "    }\n",
       "</style>\n",
       "<table border=\"1\" class=\"dataframe\">\n",
       "  <thead>\n",
       "    <tr style=\"text-align: right;\">\n",
       "      <th></th>\n",
       "      <th>Purchase Date</th>\n",
       "      <th>Patient Guid</th>\n",
       "      <th>Item</th>\n",
       "      <th>Invoice #</th>\n",
       "      <th>Status</th>\n",
       "      <th>Total</th>\n",
       "      <th>Collected</th>\n",
       "      <th>Balance</th>\n",
       "      <th>Days Between</th>\n",
       "    </tr>\n",
       "  </thead>\n",
       "  <tbody>\n",
       "    <tr>\n",
       "      <th>13</th>\n",
       "      <td>2025-02-05</td>\n",
       "      <td>29276-100</td>\n",
       "      <td>Initial Individual Counselling Session (Video)</td>\n",
       "      <td>1470-P02</td>\n",
       "      <td>paid</td>\n",
       "      <td>160.0</td>\n",
       "      <td>160.0</td>\n",
       "      <td>0.0</td>\n",
       "      <td>NaN</td>\n",
       "    </tr>\n",
       "    <tr>\n",
       "      <th>81</th>\n",
       "      <td>2025-03-06</td>\n",
       "      <td>29276-100</td>\n",
       "      <td>Individual Counselling Session (Video)</td>\n",
       "      <td>1538-P01</td>\n",
       "      <td>paid</td>\n",
       "      <td>160.0</td>\n",
       "      <td>160.0</td>\n",
       "      <td>0.0</td>\n",
       "      <td>29.0</td>\n",
       "    </tr>\n",
       "    <tr>\n",
       "      <th>16</th>\n",
       "      <td>2025-02-06</td>\n",
       "      <td>29276-13</td>\n",
       "      <td>Individual Counselling Session (Video)</td>\n",
       "      <td>1473-P01</td>\n",
       "      <td>paid</td>\n",
       "      <td>136.5</td>\n",
       "      <td>136.5</td>\n",
       "      <td>0.0</td>\n",
       "      <td>NaN</td>\n",
       "    </tr>\n",
       "    <tr>\n",
       "      <th>63</th>\n",
       "      <td>2025-02-26</td>\n",
       "      <td>29276-13</td>\n",
       "      <td>Individual Counselling Session (Video)</td>\n",
       "      <td>1520-P01</td>\n",
       "      <td>paid</td>\n",
       "      <td>136.5</td>\n",
       "      <td>136.5</td>\n",
       "      <td>0.0</td>\n",
       "      <td>20.0</td>\n",
       "    </tr>\n",
       "    <tr>\n",
       "      <th>80</th>\n",
       "      <td>2025-03-06</td>\n",
       "      <td>29276-13</td>\n",
       "      <td>Individual Counselling Session (Video)</td>\n",
       "      <td>1537-P01</td>\n",
       "      <td>paid</td>\n",
       "      <td>136.5</td>\n",
       "      <td>136.5</td>\n",
       "      <td>0.0</td>\n",
       "      <td>8.0</td>\n",
       "    </tr>\n",
       "    <tr>\n",
       "      <th>...</th>\n",
       "      <td>...</td>\n",
       "      <td>...</td>\n",
       "      <td>...</td>\n",
       "      <td>...</td>\n",
       "      <td>...</td>\n",
       "      <td>...</td>\n",
       "      <td>...</td>\n",
       "      <td>...</td>\n",
       "      <td>...</td>\n",
       "    </tr>\n",
       "    <tr>\n",
       "      <th>76</th>\n",
       "      <td>2025-03-05</td>\n",
       "      <td>29276-93</td>\n",
       "      <td>Individual Counselling Session (Video)</td>\n",
       "      <td>1533-P01</td>\n",
       "      <td>paid</td>\n",
       "      <td>160.0</td>\n",
       "      <td>160.0</td>\n",
       "      <td>0.0</td>\n",
       "      <td>23.0</td>\n",
       "    </tr>\n",
       "    <tr>\n",
       "      <th>102</th>\n",
       "      <td>2025-03-26</td>\n",
       "      <td>29276-93</td>\n",
       "      <td>Individual Counselling Session (Video)</td>\n",
       "      <td>1559-P01</td>\n",
       "      <td>paid</td>\n",
       "      <td>160.0</td>\n",
       "      <td>160.0</td>\n",
       "      <td>0.0</td>\n",
       "      <td>21.0</td>\n",
       "    </tr>\n",
       "    <tr>\n",
       "      <th>6</th>\n",
       "      <td>2025-02-04</td>\n",
       "      <td>29276-98</td>\n",
       "      <td>Individual Counselling Session (Video)</td>\n",
       "      <td>1463-P01</td>\n",
       "      <td>paid</td>\n",
       "      <td>140.0</td>\n",
       "      <td>140.0</td>\n",
       "      <td>0.0</td>\n",
       "      <td>NaN</td>\n",
       "    </tr>\n",
       "    <tr>\n",
       "      <th>38</th>\n",
       "      <td>2025-02-18</td>\n",
       "      <td>29276-98</td>\n",
       "      <td>Individual Counselling Session (In-Person)</td>\n",
       "      <td>1495-P01</td>\n",
       "      <td>paid</td>\n",
       "      <td>140.0</td>\n",
       "      <td>140.0</td>\n",
       "      <td>0.0</td>\n",
       "      <td>14.0</td>\n",
       "    </tr>\n",
       "    <tr>\n",
       "      <th>72</th>\n",
       "      <td>2025-03-04</td>\n",
       "      <td>29276-98</td>\n",
       "      <td>Individual Counselling Session (In-Person)</td>\n",
       "      <td>1529-P01</td>\n",
       "      <td>paid</td>\n",
       "      <td>140.0</td>\n",
       "      <td>140.0</td>\n",
       "      <td>0.0</td>\n",
       "      <td>14.0</td>\n",
       "    </tr>\n",
       "  </tbody>\n",
       "</table>\n",
       "<p>112 rows × 9 columns</p>\n",
       "</div>"
      ],
      "text/plain": [
       "    Purchase Date Patient Guid  \\\n",
       "13     2025-02-05    29276-100   \n",
       "81     2025-03-06    29276-100   \n",
       "16     2025-02-06     29276-13   \n",
       "63     2025-02-26     29276-13   \n",
       "80     2025-03-06     29276-13   \n",
       "..            ...          ...   \n",
       "76     2025-03-05     29276-93   \n",
       "102    2025-03-26     29276-93   \n",
       "6      2025-02-04     29276-98   \n",
       "38     2025-02-18     29276-98   \n",
       "72     2025-03-04     29276-98   \n",
       "\n",
       "                                               Item Invoice # Status  Total  \\\n",
       "13   Initial Individual Counselling Session (Video)  1470-P02   paid  160.0   \n",
       "81           Individual Counselling Session (Video)  1538-P01   paid  160.0   \n",
       "16           Individual Counselling Session (Video)  1473-P01   paid  136.5   \n",
       "63           Individual Counselling Session (Video)  1520-P01   paid  136.5   \n",
       "80           Individual Counselling Session (Video)  1537-P01   paid  136.5   \n",
       "..                                              ...       ...    ...    ...   \n",
       "76           Individual Counselling Session (Video)  1533-P01   paid  160.0   \n",
       "102          Individual Counselling Session (Video)  1559-P01   paid  160.0   \n",
       "6            Individual Counselling Session (Video)  1463-P01   paid  140.0   \n",
       "38       Individual Counselling Session (In-Person)  1495-P01   paid  140.0   \n",
       "72       Individual Counselling Session (In-Person)  1529-P01   paid  140.0   \n",
       "\n",
       "     Collected  Balance  Days Between  \n",
       "13       160.0      0.0           NaN  \n",
       "81       160.0      0.0          29.0  \n",
       "16       136.5      0.0           NaN  \n",
       "63       136.5      0.0          20.0  \n",
       "80       136.5      0.0           8.0  \n",
       "..         ...      ...           ...  \n",
       "76       160.0      0.0          23.0  \n",
       "102      160.0      0.0          21.0  \n",
       "6        140.0      0.0           NaN  \n",
       "38       140.0      0.0          14.0  \n",
       "72       140.0      0.0          14.0  \n",
       "\n",
       "[112 rows x 9 columns]"
      ]
     },
     "execution_count": 27,
     "metadata": {},
     "output_type": "execute_result"
    }
   ],
   "source": [
    "df"
   ]
  },
  {
   "cell_type": "code",
   "execution_count": 37,
   "id": "64d86c82",
   "metadata": {},
   "outputs": [
    {
     "data": {
      "text/html": [
       "<div>\n",
       "<style scoped>\n",
       "    .dataframe tbody tr th:only-of-type {\n",
       "        vertical-align: middle;\n",
       "    }\n",
       "\n",
       "    .dataframe tbody tr th {\n",
       "        vertical-align: top;\n",
       "    }\n",
       "\n",
       "    .dataframe thead th {\n",
       "        text-align: right;\n",
       "    }\n",
       "</style>\n",
       "<table border=\"1\" class=\"dataframe\">\n",
       "  <thead>\n",
       "    <tr style=\"text-align: right;\">\n",
       "      <th></th>\n",
       "      <th>Patient Guid</th>\n",
       "      <th>Avg Days Between Sessions</th>\n",
       "    </tr>\n",
       "  </thead>\n",
       "  <tbody>\n",
       "    <tr>\n",
       "      <th>0</th>\n",
       "      <td>29276-100</td>\n",
       "      <td>29.000000</td>\n",
       "    </tr>\n",
       "    <tr>\n",
       "      <th>1</th>\n",
       "      <td>29276-13</td>\n",
       "      <td>14.000000</td>\n",
       "    </tr>\n",
       "    <tr>\n",
       "      <th>2</th>\n",
       "      <td>29276-23</td>\n",
       "      <td>8.166667</td>\n",
       "    </tr>\n",
       "    <tr>\n",
       "      <th>3</th>\n",
       "      <td>29276-26</td>\n",
       "      <td>24.500000</td>\n",
       "    </tr>\n",
       "    <tr>\n",
       "      <th>4</th>\n",
       "      <td>29276-38</td>\n",
       "      <td>14.000000</td>\n",
       "    </tr>\n",
       "    <tr>\n",
       "      <th>5</th>\n",
       "      <td>29276-39</td>\n",
       "      <td>14.000000</td>\n",
       "    </tr>\n",
       "    <tr>\n",
       "      <th>6</th>\n",
       "      <td>29276-40</td>\n",
       "      <td>14.000000</td>\n",
       "    </tr>\n",
       "    <tr>\n",
       "      <th>7</th>\n",
       "      <td>29276-42</td>\n",
       "      <td>14.000000</td>\n",
       "    </tr>\n",
       "    <tr>\n",
       "      <th>8</th>\n",
       "      <td>29276-47</td>\n",
       "      <td>14.000000</td>\n",
       "    </tr>\n",
       "    <tr>\n",
       "      <th>9</th>\n",
       "      <td>29276-48</td>\n",
       "      <td>16.000000</td>\n",
       "    </tr>\n",
       "    <tr>\n",
       "      <th>10</th>\n",
       "      <td>29276-50</td>\n",
       "      <td>8.166667</td>\n",
       "    </tr>\n",
       "    <tr>\n",
       "      <th>11</th>\n",
       "      <td>29276-53</td>\n",
       "      <td>9.000000</td>\n",
       "    </tr>\n",
       "    <tr>\n",
       "      <th>12</th>\n",
       "      <td>29276-56</td>\n",
       "      <td>21.000000</td>\n",
       "    </tr>\n",
       "    <tr>\n",
       "      <th>13</th>\n",
       "      <td>29276-58</td>\n",
       "      <td>21.500000</td>\n",
       "    </tr>\n",
       "    <tr>\n",
       "      <th>14</th>\n",
       "      <td>29276-6</td>\n",
       "      <td>21.000000</td>\n",
       "    </tr>\n",
       "    <tr>\n",
       "      <th>15</th>\n",
       "      <td>29276-60</td>\n",
       "      <td>NaN</td>\n",
       "    </tr>\n",
       "    <tr>\n",
       "      <th>16</th>\n",
       "      <td>29276-63</td>\n",
       "      <td>21.000000</td>\n",
       "    </tr>\n",
       "    <tr>\n",
       "      <th>17</th>\n",
       "      <td>29276-64</td>\n",
       "      <td>14.000000</td>\n",
       "    </tr>\n",
       "    <tr>\n",
       "      <th>18</th>\n",
       "      <td>29276-66</td>\n",
       "      <td>13.000000</td>\n",
       "    </tr>\n",
       "    <tr>\n",
       "      <th>19</th>\n",
       "      <td>29276-67</td>\n",
       "      <td>11.200000</td>\n",
       "    </tr>\n",
       "    <tr>\n",
       "      <th>20</th>\n",
       "      <td>29276-68</td>\n",
       "      <td>21.000000</td>\n",
       "    </tr>\n",
       "    <tr>\n",
       "      <th>21</th>\n",
       "      <td>29276-69</td>\n",
       "      <td>14.000000</td>\n",
       "    </tr>\n",
       "    <tr>\n",
       "      <th>22</th>\n",
       "      <td>29276-71</td>\n",
       "      <td>14.000000</td>\n",
       "    </tr>\n",
       "    <tr>\n",
       "      <th>23</th>\n",
       "      <td>29276-78</td>\n",
       "      <td>14.000000</td>\n",
       "    </tr>\n",
       "    <tr>\n",
       "      <th>24</th>\n",
       "      <td>29276-79</td>\n",
       "      <td>56.000000</td>\n",
       "    </tr>\n",
       "    <tr>\n",
       "      <th>25</th>\n",
       "      <td>29276-80</td>\n",
       "      <td>14.000000</td>\n",
       "    </tr>\n",
       "    <tr>\n",
       "      <th>26</th>\n",
       "      <td>29276-84</td>\n",
       "      <td>8.166667</td>\n",
       "    </tr>\n",
       "    <tr>\n",
       "      <th>27</th>\n",
       "      <td>29276-85</td>\n",
       "      <td>NaN</td>\n",
       "    </tr>\n",
       "    <tr>\n",
       "      <th>28</th>\n",
       "      <td>29276-87</td>\n",
       "      <td>34.000000</td>\n",
       "    </tr>\n",
       "    <tr>\n",
       "      <th>29</th>\n",
       "      <td>29276-88</td>\n",
       "      <td>5.000000</td>\n",
       "    </tr>\n",
       "    <tr>\n",
       "      <th>30</th>\n",
       "      <td>29276-89</td>\n",
       "      <td>14.000000</td>\n",
       "    </tr>\n",
       "    <tr>\n",
       "      <th>31</th>\n",
       "      <td>29276-9</td>\n",
       "      <td>10.500000</td>\n",
       "    </tr>\n",
       "    <tr>\n",
       "      <th>32</th>\n",
       "      <td>29276-90</td>\n",
       "      <td>28.000000</td>\n",
       "    </tr>\n",
       "    <tr>\n",
       "      <th>33</th>\n",
       "      <td>29276-93</td>\n",
       "      <td>22.000000</td>\n",
       "    </tr>\n",
       "    <tr>\n",
       "      <th>34</th>\n",
       "      <td>29276-98</td>\n",
       "      <td>14.000000</td>\n",
       "    </tr>\n",
       "  </tbody>\n",
       "</table>\n",
       "</div>"
      ],
      "text/plain": [
       "   Patient Guid  Avg Days Between Sessions\n",
       "0     29276-100                  29.000000\n",
       "1      29276-13                  14.000000\n",
       "2      29276-23                   8.166667\n",
       "3      29276-26                  24.500000\n",
       "4      29276-38                  14.000000\n",
       "5      29276-39                  14.000000\n",
       "6      29276-40                  14.000000\n",
       "7      29276-42                  14.000000\n",
       "8      29276-47                  14.000000\n",
       "9      29276-48                  16.000000\n",
       "10     29276-50                   8.166667\n",
       "11     29276-53                   9.000000\n",
       "12     29276-56                  21.000000\n",
       "13     29276-58                  21.500000\n",
       "14      29276-6                  21.000000\n",
       "15     29276-60                        NaN\n",
       "16     29276-63                  21.000000\n",
       "17     29276-64                  14.000000\n",
       "18     29276-66                  13.000000\n",
       "19     29276-67                  11.200000\n",
       "20     29276-68                  21.000000\n",
       "21     29276-69                  14.000000\n",
       "22     29276-71                  14.000000\n",
       "23     29276-78                  14.000000\n",
       "24     29276-79                  56.000000\n",
       "25     29276-80                  14.000000\n",
       "26     29276-84                   8.166667\n",
       "27     29276-85                        NaN\n",
       "28     29276-87                  34.000000\n",
       "29     29276-88                   5.000000\n",
       "30     29276-89                  14.000000\n",
       "31      29276-9                  10.500000\n",
       "32     29276-90                  28.000000\n",
       "33     29276-93                  22.000000\n",
       "34     29276-98                  14.000000"
      ]
     },
     "execution_count": 37,
     "metadata": {},
     "output_type": "execute_result"
    }
   ],
   "source": [
    "frequency_df = df.groupby('Patient Guid')['Days Between'].mean().reset_index()\n",
    "frequency_df.columns = ['Patient Guid', 'Avg Days Between Sessions']\n",
    "frequency_df"
   ]
  },
  {
   "cell_type": "code",
   "execution_count": null,
   "id": "33062ade",
   "metadata": {},
   "outputs": [],
   "source": [
    "frequency_df['Frequency'] = frequency_df['Avg Days Between Sessions'].apply(classify_frequency)"
   ]
  },
  {
   "cell_type": "code",
   "execution_count": 39,
   "id": "be95ca4d",
   "metadata": {},
   "outputs": [
    {
     "data": {
      "text/html": [
       "<div>\n",
       "<style scoped>\n",
       "    .dataframe tbody tr th:only-of-type {\n",
       "        vertical-align: middle;\n",
       "    }\n",
       "\n",
       "    .dataframe tbody tr th {\n",
       "        vertical-align: top;\n",
       "    }\n",
       "\n",
       "    .dataframe thead th {\n",
       "        text-align: right;\n",
       "    }\n",
       "</style>\n",
       "<table border=\"1\" class=\"dataframe\">\n",
       "  <thead>\n",
       "    <tr style=\"text-align: right;\">\n",
       "      <th></th>\n",
       "      <th>Patient Guid</th>\n",
       "      <th>Avg Days Between Sessions</th>\n",
       "      <th>Frequency</th>\n",
       "    </tr>\n",
       "  </thead>\n",
       "  <tbody>\n",
       "    <tr>\n",
       "      <th>0</th>\n",
       "      <td>29276-100</td>\n",
       "      <td>29.000000</td>\n",
       "      <td>Monthly</td>\n",
       "    </tr>\n",
       "    <tr>\n",
       "      <th>1</th>\n",
       "      <td>29276-13</td>\n",
       "      <td>14.000000</td>\n",
       "      <td>Bi-weekly</td>\n",
       "    </tr>\n",
       "    <tr>\n",
       "      <th>2</th>\n",
       "      <td>29276-23</td>\n",
       "      <td>8.166667</td>\n",
       "      <td>Weekly</td>\n",
       "    </tr>\n",
       "    <tr>\n",
       "      <th>3</th>\n",
       "      <td>29276-26</td>\n",
       "      <td>24.500000</td>\n",
       "      <td>Monthly</td>\n",
       "    </tr>\n",
       "    <tr>\n",
       "      <th>4</th>\n",
       "      <td>29276-38</td>\n",
       "      <td>14.000000</td>\n",
       "      <td>Bi-weekly</td>\n",
       "    </tr>\n",
       "    <tr>\n",
       "      <th>5</th>\n",
       "      <td>29276-39</td>\n",
       "      <td>14.000000</td>\n",
       "      <td>Bi-weekly</td>\n",
       "    </tr>\n",
       "    <tr>\n",
       "      <th>6</th>\n",
       "      <td>29276-40</td>\n",
       "      <td>14.000000</td>\n",
       "      <td>Bi-weekly</td>\n",
       "    </tr>\n",
       "    <tr>\n",
       "      <th>7</th>\n",
       "      <td>29276-42</td>\n",
       "      <td>14.000000</td>\n",
       "      <td>Bi-weekly</td>\n",
       "    </tr>\n",
       "    <tr>\n",
       "      <th>8</th>\n",
       "      <td>29276-47</td>\n",
       "      <td>14.000000</td>\n",
       "      <td>Bi-weekly</td>\n",
       "    </tr>\n",
       "    <tr>\n",
       "      <th>9</th>\n",
       "      <td>29276-48</td>\n",
       "      <td>16.000000</td>\n",
       "      <td>Bi-weekly</td>\n",
       "    </tr>\n",
       "    <tr>\n",
       "      <th>10</th>\n",
       "      <td>29276-50</td>\n",
       "      <td>8.166667</td>\n",
       "      <td>Weekly</td>\n",
       "    </tr>\n",
       "    <tr>\n",
       "      <th>11</th>\n",
       "      <td>29276-53</td>\n",
       "      <td>9.000000</td>\n",
       "      <td>Weekly</td>\n",
       "    </tr>\n",
       "    <tr>\n",
       "      <th>12</th>\n",
       "      <td>29276-56</td>\n",
       "      <td>21.000000</td>\n",
       "      <td>Monthly</td>\n",
       "    </tr>\n",
       "    <tr>\n",
       "      <th>13</th>\n",
       "      <td>29276-58</td>\n",
       "      <td>21.500000</td>\n",
       "      <td>Monthly</td>\n",
       "    </tr>\n",
       "    <tr>\n",
       "      <th>14</th>\n",
       "      <td>29276-6</td>\n",
       "      <td>21.000000</td>\n",
       "      <td>Monthly</td>\n",
       "    </tr>\n",
       "    <tr>\n",
       "      <th>15</th>\n",
       "      <td>29276-60</td>\n",
       "      <td>NaN</td>\n",
       "      <td>One-time</td>\n",
       "    </tr>\n",
       "    <tr>\n",
       "      <th>16</th>\n",
       "      <td>29276-63</td>\n",
       "      <td>21.000000</td>\n",
       "      <td>Monthly</td>\n",
       "    </tr>\n",
       "    <tr>\n",
       "      <th>17</th>\n",
       "      <td>29276-64</td>\n",
       "      <td>14.000000</td>\n",
       "      <td>Bi-weekly</td>\n",
       "    </tr>\n",
       "    <tr>\n",
       "      <th>18</th>\n",
       "      <td>29276-66</td>\n",
       "      <td>13.000000</td>\n",
       "      <td>Bi-weekly</td>\n",
       "    </tr>\n",
       "    <tr>\n",
       "      <th>19</th>\n",
       "      <td>29276-67</td>\n",
       "      <td>11.200000</td>\n",
       "      <td>Bi-weekly</td>\n",
       "    </tr>\n",
       "    <tr>\n",
       "      <th>20</th>\n",
       "      <td>29276-68</td>\n",
       "      <td>21.000000</td>\n",
       "      <td>Monthly</td>\n",
       "    </tr>\n",
       "    <tr>\n",
       "      <th>21</th>\n",
       "      <td>29276-69</td>\n",
       "      <td>14.000000</td>\n",
       "      <td>Bi-weekly</td>\n",
       "    </tr>\n",
       "    <tr>\n",
       "      <th>22</th>\n",
       "      <td>29276-71</td>\n",
       "      <td>14.000000</td>\n",
       "      <td>Bi-weekly</td>\n",
       "    </tr>\n",
       "    <tr>\n",
       "      <th>23</th>\n",
       "      <td>29276-78</td>\n",
       "      <td>14.000000</td>\n",
       "      <td>Bi-weekly</td>\n",
       "    </tr>\n",
       "    <tr>\n",
       "      <th>24</th>\n",
       "      <td>29276-79</td>\n",
       "      <td>56.000000</td>\n",
       "      <td>Occasional</td>\n",
       "    </tr>\n",
       "    <tr>\n",
       "      <th>25</th>\n",
       "      <td>29276-80</td>\n",
       "      <td>14.000000</td>\n",
       "      <td>Bi-weekly</td>\n",
       "    </tr>\n",
       "    <tr>\n",
       "      <th>26</th>\n",
       "      <td>29276-84</td>\n",
       "      <td>8.166667</td>\n",
       "      <td>Weekly</td>\n",
       "    </tr>\n",
       "    <tr>\n",
       "      <th>27</th>\n",
       "      <td>29276-85</td>\n",
       "      <td>NaN</td>\n",
       "      <td>One-time</td>\n",
       "    </tr>\n",
       "    <tr>\n",
       "      <th>28</th>\n",
       "      <td>29276-87</td>\n",
       "      <td>34.000000</td>\n",
       "      <td>Monthly</td>\n",
       "    </tr>\n",
       "    <tr>\n",
       "      <th>29</th>\n",
       "      <td>29276-88</td>\n",
       "      <td>5.000000</td>\n",
       "      <td>Weekly</td>\n",
       "    </tr>\n",
       "    <tr>\n",
       "      <th>30</th>\n",
       "      <td>29276-89</td>\n",
       "      <td>14.000000</td>\n",
       "      <td>Bi-weekly</td>\n",
       "    </tr>\n",
       "    <tr>\n",
       "      <th>31</th>\n",
       "      <td>29276-9</td>\n",
       "      <td>10.500000</td>\n",
       "      <td>Bi-weekly</td>\n",
       "    </tr>\n",
       "    <tr>\n",
       "      <th>32</th>\n",
       "      <td>29276-90</td>\n",
       "      <td>28.000000</td>\n",
       "      <td>Monthly</td>\n",
       "    </tr>\n",
       "    <tr>\n",
       "      <th>33</th>\n",
       "      <td>29276-93</td>\n",
       "      <td>22.000000</td>\n",
       "      <td>Monthly</td>\n",
       "    </tr>\n",
       "    <tr>\n",
       "      <th>34</th>\n",
       "      <td>29276-98</td>\n",
       "      <td>14.000000</td>\n",
       "      <td>Bi-weekly</td>\n",
       "    </tr>\n",
       "  </tbody>\n",
       "</table>\n",
       "</div>"
      ],
      "text/plain": [
       "   Patient Guid  Avg Days Between Sessions   Frequency\n",
       "0     29276-100                  29.000000     Monthly\n",
       "1      29276-13                  14.000000   Bi-weekly\n",
       "2      29276-23                   8.166667      Weekly\n",
       "3      29276-26                  24.500000     Monthly\n",
       "4      29276-38                  14.000000   Bi-weekly\n",
       "5      29276-39                  14.000000   Bi-weekly\n",
       "6      29276-40                  14.000000   Bi-weekly\n",
       "7      29276-42                  14.000000   Bi-weekly\n",
       "8      29276-47                  14.000000   Bi-weekly\n",
       "9      29276-48                  16.000000   Bi-weekly\n",
       "10     29276-50                   8.166667      Weekly\n",
       "11     29276-53                   9.000000      Weekly\n",
       "12     29276-56                  21.000000     Monthly\n",
       "13     29276-58                  21.500000     Monthly\n",
       "14      29276-6                  21.000000     Monthly\n",
       "15     29276-60                        NaN    One-time\n",
       "16     29276-63                  21.000000     Monthly\n",
       "17     29276-64                  14.000000   Bi-weekly\n",
       "18     29276-66                  13.000000   Bi-weekly\n",
       "19     29276-67                  11.200000   Bi-weekly\n",
       "20     29276-68                  21.000000     Monthly\n",
       "21     29276-69                  14.000000   Bi-weekly\n",
       "22     29276-71                  14.000000   Bi-weekly\n",
       "23     29276-78                  14.000000   Bi-weekly\n",
       "24     29276-79                  56.000000  Occasional\n",
       "25     29276-80                  14.000000   Bi-weekly\n",
       "26     29276-84                   8.166667      Weekly\n",
       "27     29276-85                        NaN    One-time\n",
       "28     29276-87                  34.000000     Monthly\n",
       "29     29276-88                   5.000000      Weekly\n",
       "30     29276-89                  14.000000   Bi-weekly\n",
       "31      29276-9                  10.500000   Bi-weekly\n",
       "32     29276-90                  28.000000     Monthly\n",
       "33     29276-93                  22.000000     Monthly\n",
       "34     29276-98                  14.000000   Bi-weekly"
      ]
     },
     "execution_count": 39,
     "metadata": {},
     "output_type": "execute_result"
    }
   ],
   "source": [
    "frequency_df"
   ]
  },
  {
   "cell_type": "code",
   "execution_count": 40,
   "id": "eb0a0b6d",
   "metadata": {},
   "outputs": [
    {
     "data": {
      "text/html": [
       "<div>\n",
       "<style scoped>\n",
       "    .dataframe tbody tr th:only-of-type {\n",
       "        vertical-align: middle;\n",
       "    }\n",
       "\n",
       "    .dataframe tbody tr th {\n",
       "        vertical-align: top;\n",
       "    }\n",
       "\n",
       "    .dataframe thead th {\n",
       "        text-align: right;\n",
       "    }\n",
       "</style>\n",
       "<table border=\"1\" class=\"dataframe\">\n",
       "  <thead>\n",
       "    <tr style=\"text-align: right;\">\n",
       "      <th></th>\n",
       "      <th>Patient Guid</th>\n",
       "      <th>Avg Days Between Sessions</th>\n",
       "      <th>Frequency</th>\n",
       "      <th>Average Charged</th>\n",
       "    </tr>\n",
       "  </thead>\n",
       "  <tbody>\n",
       "    <tr>\n",
       "      <th>0</th>\n",
       "      <td>29276-100</td>\n",
       "      <td>29.000000</td>\n",
       "      <td>Monthly</td>\n",
       "      <td>160.00</td>\n",
       "    </tr>\n",
       "    <tr>\n",
       "      <th>1</th>\n",
       "      <td>29276-13</td>\n",
       "      <td>14.000000</td>\n",
       "      <td>Bi-weekly</td>\n",
       "      <td>136.50</td>\n",
       "    </tr>\n",
       "    <tr>\n",
       "      <th>2</th>\n",
       "      <td>29276-23</td>\n",
       "      <td>8.166667</td>\n",
       "      <td>Weekly</td>\n",
       "      <td>139.29</td>\n",
       "    </tr>\n",
       "    <tr>\n",
       "      <th>3</th>\n",
       "      <td>29276-26</td>\n",
       "      <td>24.500000</td>\n",
       "      <td>Monthly</td>\n",
       "      <td>158.33</td>\n",
       "    </tr>\n",
       "    <tr>\n",
       "      <th>4</th>\n",
       "      <td>29276-38</td>\n",
       "      <td>14.000000</td>\n",
       "      <td>Bi-weekly</td>\n",
       "      <td>158.75</td>\n",
       "    </tr>\n",
       "    <tr>\n",
       "      <th>5</th>\n",
       "      <td>29276-39</td>\n",
       "      <td>14.000000</td>\n",
       "      <td>Bi-weekly</td>\n",
       "      <td>84.00</td>\n",
       "    </tr>\n",
       "    <tr>\n",
       "      <th>6</th>\n",
       "      <td>29276-40</td>\n",
       "      <td>14.000000</td>\n",
       "      <td>Bi-weekly</td>\n",
       "      <td>158.50</td>\n",
       "    </tr>\n",
       "    <tr>\n",
       "      <th>7</th>\n",
       "      <td>29276-42</td>\n",
       "      <td>14.000000</td>\n",
       "      <td>Bi-weekly</td>\n",
       "      <td>158.33</td>\n",
       "    </tr>\n",
       "    <tr>\n",
       "      <th>8</th>\n",
       "      <td>29276-47</td>\n",
       "      <td>14.000000</td>\n",
       "      <td>Bi-weekly</td>\n",
       "      <td>157.50</td>\n",
       "    </tr>\n",
       "    <tr>\n",
       "      <th>9</th>\n",
       "      <td>29276-48</td>\n",
       "      <td>16.000000</td>\n",
       "      <td>Bi-weekly</td>\n",
       "      <td>158.75</td>\n",
       "    </tr>\n",
       "  </tbody>\n",
       "</table>\n",
       "</div>"
      ],
      "text/plain": [
       "  Patient Guid  Avg Days Between Sessions  Frequency  Average Charged\n",
       "0    29276-100                  29.000000    Monthly           160.00\n",
       "1     29276-13                  14.000000  Bi-weekly           136.50\n",
       "2     29276-23                   8.166667     Weekly           139.29\n",
       "3     29276-26                  24.500000    Monthly           158.33\n",
       "4     29276-38                  14.000000  Bi-weekly           158.75\n",
       "5     29276-39                  14.000000  Bi-weekly            84.00\n",
       "6     29276-40                  14.000000  Bi-weekly           158.50\n",
       "7     29276-42                  14.000000  Bi-weekly           158.33\n",
       "8     29276-47                  14.000000  Bi-weekly           157.50\n",
       "9     29276-48                  16.000000  Bi-weekly           158.75"
      ]
     },
     "execution_count": 40,
     "metadata": {},
     "output_type": "execute_result"
    }
   ],
   "source": [
    "frequency_df = pd.merge(frequency_df, client_details[['Patient Guid', 'Average Charged']], how='left', on='Patient Guid')\n",
    "frequency_df.head(10)"
   ]
  },
  {
   "cell_type": "code",
   "execution_count": 41,
   "id": "2c73bf4c",
   "metadata": {},
   "outputs": [],
   "source": [
    "def annual_forecast(row):\n",
    "    if row['Frequency'] == 'Weekly':\n",
    "        return row['Average Charged'] * 52\n",
    "    elif row['Frequency'] == 'Bi-weekly':\n",
    "        return row['Average Charged'] * 26\n",
    "    elif row['Frequency'] == 'Monthly':\n",
    "        return row['Average Charged'] * 12\n",
    "    else:\n",
    "        return 0"
   ]
  },
  {
   "cell_type": "code",
   "execution_count": 42,
   "id": "6ff6c1a3",
   "metadata": {},
   "outputs": [
    {
     "data": {
      "text/html": [
       "<div>\n",
       "<style scoped>\n",
       "    .dataframe tbody tr th:only-of-type {\n",
       "        vertical-align: middle;\n",
       "    }\n",
       "\n",
       "    .dataframe tbody tr th {\n",
       "        vertical-align: top;\n",
       "    }\n",
       "\n",
       "    .dataframe thead th {\n",
       "        text-align: right;\n",
       "    }\n",
       "</style>\n",
       "<table border=\"1\" class=\"dataframe\">\n",
       "  <thead>\n",
       "    <tr style=\"text-align: right;\">\n",
       "      <th></th>\n",
       "      <th>Patient Guid</th>\n",
       "      <th>Frequency</th>\n",
       "      <th>Average Charged</th>\n",
       "      <th>Annual Revenue</th>\n",
       "    </tr>\n",
       "  </thead>\n",
       "  <tbody>\n",
       "    <tr>\n",
       "      <th>0</th>\n",
       "      <td>29276-100</td>\n",
       "      <td>Monthly</td>\n",
       "      <td>160.00</td>\n",
       "      <td>1920.00</td>\n",
       "    </tr>\n",
       "    <tr>\n",
       "      <th>1</th>\n",
       "      <td>29276-13</td>\n",
       "      <td>Bi-weekly</td>\n",
       "      <td>136.50</td>\n",
       "      <td>3549.00</td>\n",
       "    </tr>\n",
       "    <tr>\n",
       "      <th>2</th>\n",
       "      <td>29276-23</td>\n",
       "      <td>Weekly</td>\n",
       "      <td>139.29</td>\n",
       "      <td>7243.08</td>\n",
       "    </tr>\n",
       "    <tr>\n",
       "      <th>3</th>\n",
       "      <td>29276-26</td>\n",
       "      <td>Monthly</td>\n",
       "      <td>158.33</td>\n",
       "      <td>1899.96</td>\n",
       "    </tr>\n",
       "    <tr>\n",
       "      <th>4</th>\n",
       "      <td>29276-38</td>\n",
       "      <td>Bi-weekly</td>\n",
       "      <td>158.75</td>\n",
       "      <td>4127.50</td>\n",
       "    </tr>\n",
       "    <tr>\n",
       "      <th>5</th>\n",
       "      <td>29276-39</td>\n",
       "      <td>Bi-weekly</td>\n",
       "      <td>84.00</td>\n",
       "      <td>2184.00</td>\n",
       "    </tr>\n",
       "    <tr>\n",
       "      <th>6</th>\n",
       "      <td>29276-40</td>\n",
       "      <td>Bi-weekly</td>\n",
       "      <td>158.50</td>\n",
       "      <td>4121.00</td>\n",
       "    </tr>\n",
       "    <tr>\n",
       "      <th>7</th>\n",
       "      <td>29276-42</td>\n",
       "      <td>Bi-weekly</td>\n",
       "      <td>158.33</td>\n",
       "      <td>4116.58</td>\n",
       "    </tr>\n",
       "    <tr>\n",
       "      <th>8</th>\n",
       "      <td>29276-47</td>\n",
       "      <td>Bi-weekly</td>\n",
       "      <td>157.50</td>\n",
       "      <td>4095.00</td>\n",
       "    </tr>\n",
       "    <tr>\n",
       "      <th>9</th>\n",
       "      <td>29276-48</td>\n",
       "      <td>Bi-weekly</td>\n",
       "      <td>158.75</td>\n",
       "      <td>4127.50</td>\n",
       "    </tr>\n",
       "    <tr>\n",
       "      <th>10</th>\n",
       "      <td>29276-50</td>\n",
       "      <td>Weekly</td>\n",
       "      <td>158.57</td>\n",
       "      <td>8245.64</td>\n",
       "    </tr>\n",
       "    <tr>\n",
       "      <th>11</th>\n",
       "      <td>29276-53</td>\n",
       "      <td>Weekly</td>\n",
       "      <td>150.00</td>\n",
       "      <td>7800.00</td>\n",
       "    </tr>\n",
       "    <tr>\n",
       "      <th>12</th>\n",
       "      <td>29276-56</td>\n",
       "      <td>Monthly</td>\n",
       "      <td>100.00</td>\n",
       "      <td>1200.00</td>\n",
       "    </tr>\n",
       "    <tr>\n",
       "      <th>13</th>\n",
       "      <td>29276-58</td>\n",
       "      <td>Monthly</td>\n",
       "      <td>158.33</td>\n",
       "      <td>1899.96</td>\n",
       "    </tr>\n",
       "    <tr>\n",
       "      <th>14</th>\n",
       "      <td>29276-6</td>\n",
       "      <td>Monthly</td>\n",
       "      <td>149.58</td>\n",
       "      <td>1794.96</td>\n",
       "    </tr>\n",
       "    <tr>\n",
       "      <th>15</th>\n",
       "      <td>29276-60</td>\n",
       "      <td>One-time</td>\n",
       "      <td>157.50</td>\n",
       "      <td>0.00</td>\n",
       "    </tr>\n",
       "    <tr>\n",
       "      <th>16</th>\n",
       "      <td>29276-63</td>\n",
       "      <td>Monthly</td>\n",
       "      <td>158.75</td>\n",
       "      <td>1905.00</td>\n",
       "    </tr>\n",
       "    <tr>\n",
       "      <th>17</th>\n",
       "      <td>29276-64</td>\n",
       "      <td>Bi-weekly</td>\n",
       "      <td>168.00</td>\n",
       "      <td>4368.00</td>\n",
       "    </tr>\n",
       "    <tr>\n",
       "      <th>18</th>\n",
       "      <td>29276-66</td>\n",
       "      <td>Bi-weekly</td>\n",
       "      <td>157.50</td>\n",
       "      <td>4095.00</td>\n",
       "    </tr>\n",
       "    <tr>\n",
       "      <th>19</th>\n",
       "      <td>29276-67</td>\n",
       "      <td>Bi-weekly</td>\n",
       "      <td>158.75</td>\n",
       "      <td>4127.50</td>\n",
       "    </tr>\n",
       "    <tr>\n",
       "      <th>20</th>\n",
       "      <td>29276-68</td>\n",
       "      <td>Monthly</td>\n",
       "      <td>158.75</td>\n",
       "      <td>1905.00</td>\n",
       "    </tr>\n",
       "    <tr>\n",
       "      <th>21</th>\n",
       "      <td>29276-69</td>\n",
       "      <td>Bi-weekly</td>\n",
       "      <td>158.33</td>\n",
       "      <td>4116.58</td>\n",
       "    </tr>\n",
       "    <tr>\n",
       "      <th>22</th>\n",
       "      <td>29276-71</td>\n",
       "      <td>Bi-weekly</td>\n",
       "      <td>158.75</td>\n",
       "      <td>4127.50</td>\n",
       "    </tr>\n",
       "    <tr>\n",
       "      <th>23</th>\n",
       "      <td>29276-78</td>\n",
       "      <td>Bi-weekly</td>\n",
       "      <td>157.50</td>\n",
       "      <td>4095.00</td>\n",
       "    </tr>\n",
       "    <tr>\n",
       "      <th>24</th>\n",
       "      <td>29276-79</td>\n",
       "      <td>Occasional</td>\n",
       "      <td>158.75</td>\n",
       "      <td>0.00</td>\n",
       "    </tr>\n",
       "    <tr>\n",
       "      <th>25</th>\n",
       "      <td>29276-80</td>\n",
       "      <td>Bi-weekly</td>\n",
       "      <td>84.00</td>\n",
       "      <td>2184.00</td>\n",
       "    </tr>\n",
       "    <tr>\n",
       "      <th>26</th>\n",
       "      <td>29276-84</td>\n",
       "      <td>Weekly</td>\n",
       "      <td>158.57</td>\n",
       "      <td>8245.64</td>\n",
       "    </tr>\n",
       "    <tr>\n",
       "      <th>27</th>\n",
       "      <td>29276-85</td>\n",
       "      <td>One-time</td>\n",
       "      <td>160.00</td>\n",
       "      <td>0.00</td>\n",
       "    </tr>\n",
       "    <tr>\n",
       "      <th>28</th>\n",
       "      <td>29276-87</td>\n",
       "      <td>Monthly</td>\n",
       "      <td>158.75</td>\n",
       "      <td>1905.00</td>\n",
       "    </tr>\n",
       "    <tr>\n",
       "      <th>29</th>\n",
       "      <td>29276-88</td>\n",
       "      <td>Weekly</td>\n",
       "      <td>157.50</td>\n",
       "      <td>8190.00</td>\n",
       "    </tr>\n",
       "    <tr>\n",
       "      <th>30</th>\n",
       "      <td>29276-89</td>\n",
       "      <td>Bi-weekly</td>\n",
       "      <td>157.50</td>\n",
       "      <td>4095.00</td>\n",
       "    </tr>\n",
       "    <tr>\n",
       "      <th>31</th>\n",
       "      <td>29276-9</td>\n",
       "      <td>Bi-weekly</td>\n",
       "      <td>159.00</td>\n",
       "      <td>4134.00</td>\n",
       "    </tr>\n",
       "    <tr>\n",
       "      <th>32</th>\n",
       "      <td>29276-90</td>\n",
       "      <td>Monthly</td>\n",
       "      <td>159.17</td>\n",
       "      <td>1910.04</td>\n",
       "    </tr>\n",
       "    <tr>\n",
       "      <th>33</th>\n",
       "      <td>29276-93</td>\n",
       "      <td>Monthly</td>\n",
       "      <td>159.17</td>\n",
       "      <td>1910.04</td>\n",
       "    </tr>\n",
       "    <tr>\n",
       "      <th>34</th>\n",
       "      <td>29276-98</td>\n",
       "      <td>Bi-weekly</td>\n",
       "      <td>140.00</td>\n",
       "      <td>3640.00</td>\n",
       "    </tr>\n",
       "  </tbody>\n",
       "</table>\n",
       "</div>"
      ],
      "text/plain": [
       "   Patient Guid   Frequency  Average Charged  Annual Revenue\n",
       "0     29276-100     Monthly           160.00         1920.00\n",
       "1      29276-13   Bi-weekly           136.50         3549.00\n",
       "2      29276-23      Weekly           139.29         7243.08\n",
       "3      29276-26     Monthly           158.33         1899.96\n",
       "4      29276-38   Bi-weekly           158.75         4127.50\n",
       "5      29276-39   Bi-weekly            84.00         2184.00\n",
       "6      29276-40   Bi-weekly           158.50         4121.00\n",
       "7      29276-42   Bi-weekly           158.33         4116.58\n",
       "8      29276-47   Bi-weekly           157.50         4095.00\n",
       "9      29276-48   Bi-weekly           158.75         4127.50\n",
       "10     29276-50      Weekly           158.57         8245.64\n",
       "11     29276-53      Weekly           150.00         7800.00\n",
       "12     29276-56     Monthly           100.00         1200.00\n",
       "13     29276-58     Monthly           158.33         1899.96\n",
       "14      29276-6     Monthly           149.58         1794.96\n",
       "15     29276-60    One-time           157.50            0.00\n",
       "16     29276-63     Monthly           158.75         1905.00\n",
       "17     29276-64   Bi-weekly           168.00         4368.00\n",
       "18     29276-66   Bi-weekly           157.50         4095.00\n",
       "19     29276-67   Bi-weekly           158.75         4127.50\n",
       "20     29276-68     Monthly           158.75         1905.00\n",
       "21     29276-69   Bi-weekly           158.33         4116.58\n",
       "22     29276-71   Bi-weekly           158.75         4127.50\n",
       "23     29276-78   Bi-weekly           157.50         4095.00\n",
       "24     29276-79  Occasional           158.75            0.00\n",
       "25     29276-80   Bi-weekly            84.00         2184.00\n",
       "26     29276-84      Weekly           158.57         8245.64\n",
       "27     29276-85    One-time           160.00            0.00\n",
       "28     29276-87     Monthly           158.75         1905.00\n",
       "29     29276-88      Weekly           157.50         8190.00\n",
       "30     29276-89   Bi-weekly           157.50         4095.00\n",
       "31      29276-9   Bi-weekly           159.00         4134.00\n",
       "32     29276-90     Monthly           159.17         1910.04\n",
       "33     29276-93     Monthly           159.17         1910.04\n",
       "34     29276-98   Bi-weekly           140.00         3640.00"
      ]
     },
     "execution_count": 42,
     "metadata": {},
     "output_type": "execute_result"
    }
   ],
   "source": [
    "projection = frequency_df.drop(columns='Avg Days Between Sessions')\n",
    "projection['Annual Revenue'] = projection.apply(annual_forecast, axis=1)\n",
    "projection"
   ]
  },
  {
   "cell_type": "code",
   "execution_count": null,
   "id": "2c264099",
   "metadata": {},
   "outputs": [],
   "source": []
  }
 ],
 "metadata": {
  "kernelspec": {
   "display_name": "Python 3",
   "language": "python",
   "name": "python3"
  },
  "language_info": {
   "codemirror_mode": {
    "name": "ipython",
    "version": 3
   },
   "file_extension": ".py",
   "mimetype": "text/x-python",
   "name": "python",
   "nbconvert_exporter": "python",
   "pygments_lexer": "ipython3",
   "version": "3.13.2"
  }
 },
 "nbformat": 4,
 "nbformat_minor": 5
}
